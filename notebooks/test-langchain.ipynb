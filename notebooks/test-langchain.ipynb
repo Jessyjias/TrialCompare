{
 "cells": [
  {
   "cell_type": "code",
   "execution_count": 2,
   "metadata": {},
   "outputs": [],
   "source": [
    "# ! pip install langchain_community tiktoken langchain-openai langchainhub chromadb langchain transformers torch accelerate einops"
   ]
  },
  {
   "cell_type": "code",
   "execution_count": 10,
   "metadata": {},
   "outputs": [],
   "source": [
    "# ! pip install numpy pandas "
   ]
  },
  {
   "cell_type": "markdown",
   "metadata": {},
   "source": [
    "## Get data from clinical trial.gov"
   ]
  },
  {
   "cell_type": "code",
   "execution_count": 49,
   "metadata": {},
   "outputs": [
    {
     "name": "stderr",
     "output_type": "stream",
     "text": [
      "/var/folders/55/cwx6q2h16k1f7mlmfr7md0hc0000gn/T/ipykernel_1162/4083351594.py:2: DtypeWarning: Columns (30,32,33,34,35,36,37,38,40,41,43,45,46,48,49,50,51,52,54,56,57,58,64,65,66,67,68,71,72,73,74,76,77,78,79,80,81,82,84,87,88,89,90,92,93,94,95,96,97,98,100,103,104,105,106,108,109,110,112,113,114,116,117,119,121,122,124,125,126,129,130,132,133,134,135,138,140,141,143,145,146,148,149,152,153,154,156,159,160,161,162,164,166,168,169,170,176,177,178,179,182,184,185,186,187,188,189,190,192,193,195,197,198,200,201,204,205,206,208,211,212,213,214,216,217,219,221,222,224,225,226,227,228,230,232,233,234,240,241,242,244,245,246,247,248,249,250,252,253,255,257,258,260,261,262,263,266,268,269,270,272,274,275,276,277,278,279,282,284,285,286,288,290,292,293,294,295,298,299,300,301,302,304,306,308,309,310,316,317,318,320,321,324,325,326,328,331,332,333,334,339,340,341,342,345,346,348,349,350,351,354,356,357,358,359,360,361,362,364,365,367,369,370,372,375,376,377,378,380,382,384,385,386,392,393,394,397,398,400,401,402,403,407,408,409,410,412,413,415,417,418,420,421,422,423,426,428,429,430,436,437,438,444,445,446,452,453,454,456,459,460,461,462,464,465,471,472,473,474,478,479,480,481,483,485,487,488,489,494,495,496,497,499,501,502,503,504,505,510,511,512,513,514,518,520,521,523,524,527,528,529,531,534,536,537,539,540,543,544,545,547,550,554,555,556,557,559,560,562,565,567,568,569,574,575,576,577,579,580,582,585,587,588,589,590,595,596,597,602,603,604,605,607,608,610,613,615,616,617,622,623,624,625,630,632,633,635,636,639,640,641,643,646,648,649,650,651,652,654,655,656,657,658,659,664,665,666,667,671,673,675,676,679,680,682,683,684,685,690,691,692,695,696,698,699,700,701,705,708,710,711,712,717,718,719,720,722,723,725,728,730,731,732,737,738,739,740,742,745,747,748,750,751,753,756,758,759,760,765,766,767,768,770,771,773,775,776,778,781,782,783,784,786,789,790,791,792,794,797,798,799,800,806,807,808,814,815,817,819,821,823,824,826,830,831,832,833,834,835,836,840,841,842,844,845,846,847,848,849,853,854,856,857,858,862,863,865,866,870,871,872,874,875,877,879,881,883,884,886,887,888,892,893,895,896,900,902,904,905,906,909,911,913,914,917,919,920,922,924,928,929,931,934,935,937,938,939,943,944,945,946,952,953,954,955,956,958,959,960,961,962,963,968,969,970,971,972,974,976,977,978,979,987,988,990,991,995,997,999,1000,1001,1002,1007,1008,1009,1010,1011,1012,1017,1018,1019,1020,1021,1026,1027,1028,1029,1030,1035,1036,1037,1038,1039,1040,1045,1046,1047,1048,1049,1050,1054,1055,1056,1057,1058,1060,1061,1062,1063,1064,1065,1066,1069,1071,1072,1073,1074,1075,1076,1077,1079,1080,1082,1084,1085,1087,1088,1090,1091,1092,1094,1095,1097,1099,1101,1102,1105,1107,1108,1110,1116,1118,1119,1120,1121,1125,1126,1127,1128,1129,1130,1132,1134,1135,1136,1137,1138,1139,1143,1144,1145,1146,1147,1150,1151,1152,1153,1154,1155,1159,1160,1161,1163,1164,1165,1169,1170,1172,1173,1175,1180,1181,1183,1186,1189,1192,1194,1196,1197,1199,1200,1202,1203,1205,1206,1208,1209,1211,1212,1214,1215,1217,1218,1220,1221,1223,1224,1226,1227,1229,1230,1232,1233,1235,1236,1238,1239,1241,1242,1244,1245,1247,1248,1250,1251,1253,1254,1256,1257,1259,1260,1262,1263,1265,1266,1268,1269,1271,1272,1274,1275,1277,1278,1280,1281,1283,1284,1286,1287,1289,1290,1292,1293,1295,1296,1298,1299,1301,1302,1304,1305,1307,1308,1310,1311,1313,1314,1316,1317,1319,1320,1322,1323,1325,1326,1328,1329,1331,1332,1334,1335,1337,1338,1340,1341,1343,1344,1346,1347,1349,1350,1352,1353,1355,1356,1358,1359,1361,1362,1364,1365,1367,1368,1370,1371,1373,1374,1376,1377,1379,1380,1382,1383,1384,1386,1387,1388,1390,1391,1392,1394,1395,1396,1398,1399,1400,1402,1403,1404,1406,1407,1408,1410,1411,1412,1414,1415,1416,1418,1419,1420,1422,1423,1424,1426,1427,1428,1430,1431,1432,1434,1435,1436,1438,1439,1440,1442,1443,1444,1446,1447,1448,1450,1451,1452,1454,1455,1456,1458,1459,1460,1462,1463,1464,1466,1467,1468,1470,1471,1472,1474,1475,1476,1478,1479,1480,1482,1483,1484,1486,1487,1488,1490,1491,1492,1494,1495,1496,1498,1499,1500,1502,1503,1504,1506,1507,1508,1510,1511,1512,1514,1515,1516,1518,1519,1520,1522,1523,1524,1526,1527,1528,1530,1531,1532,1534,1535,1536,1538,1539,1540,1542,1543,1544,1546,1547,1548,1550,1551,1552,1554,1555,1556,1558,1559,1560,1562,1563,1564,1566,1567,1568,1570,1571,1572,1574,1575,1576,1578,1579,1580,1582,1583,1584,1586,1587,1588,1590,1591,1592,1594,1595,1596,1598,1599,1600,1602,1603,1604,1606,1607,1608,1610,1611,1612,1614,1615,1616,1618,1619,1620,1622,1623,1624,1626,1627,1628,1630,1631,1632,1634,1635,1636,1638,1639,1640,1642,1643,1644,1646,1647,1648,1650,1651,1652,1654,1655,1656,1658,1659,1660,1662,1663,1664,1666,1667,1668,1670,1671,1672,1674,1675,1676,1678,1679,1680,1682,1683,1684,1686,1687,1688,1690,1691,1692,1694,1695,1696,1698,1699,1700,1702,1703,1704,1706,1707,1708,1710,1711,1712,1714,1715,1716,1718,1719,1720,1722,1723,1724,1726,1727,1728,1730,1731,1732,1734,1735,1736,1738,1739,1740,1742,1743,1744,1746,1747,1748,1750,1751,1752,1754,1755,1756,1758,1759,1760,1762,1763,1764,1766,1767,1768,1770,1771,1772,1774,1775,1776,1778,1779,1780,1782,1783,1784,1786,1787,1788,1790,1791,1792,1794,1795,1796,1798,1799,1800,1802,1803,1804,1806,1807,1808,1810,1811,1812,1814,1815,1816,1818,1819,1820,1822,1823,1824,1826,1827,1828,1830,1831,1832,1834,1835,1836,1838,1839,1840,1842,1843,1844,1846,1847,1848,1850,1851,1852,1854,1855,1856,1858,1859,1860,1862,1863,1864,1866,1867,1868,1870,1871,1872,1874,1875,1876,1878,1879,1880,1882,1883,1884,1886,1887,1888,1890,1891,1892,1894,1895,1896,1898,1899,1900,1902,1903,1904,1906,1907,1908,1910,1911,1912,1914,1915,1916,1918,1919,1920,1922,1923,1924,1926,1927,1928,1930,1931,1932,1934,1935,1936,1938,1939,1940,1942,1943,1944,1946,1947,1948,1950,1951,1952,1954,1955,1956,1958,1959,1960,1962,1963,1964,1966,1967,1968,1970,1971,1972,1974,1975,1976,1978,1979,1980,1982,1983,1984,1986,1987,1988,1990,1991,1992,1994,1995,1996,1998,1999,2000,2002,2003,2004,2006,2007,2008,2010,2011,2012,2014,2015,2016,2018,2019,2020,2022,2023,2024,2026,2027,2028,2030,2031,2032,2034,2035,2036,2038,2039,2040,2042,2043,2044,2046,2047,2048,2050,2051,2052,2054,2055,2056,2058,2059,2060,2062,2063,2064,2066,2067,2068,2070,2071,2072,2074,2075,2076,2078,2079,2080,2082,2083,2084,2086,2087,2088,2090,2091,2092,2094,2095,2096,2098,2099,2100,2102,2103,2104,2106,2107,2108,2110,2111,2112,2114,2115,2116,2118,2119,2120,2122,2123,2124,2126,2127,2128,2130,2131,2132,2134,2135,2136,2138,2139,2140,2142,2143,2144,2146,2147,2148,2150,2151,2152,2154,2155,2156,2158,2159,2160,2162,2163,2165,2166,2168,2169,2171,2172,2174,2175,2177,2178,2180,2181,2183,2184,2186,2187,2189,2190,2192,2193,2195,2196,2198,2199,2201,2202,2204,2205,2207,2208,2210,2211,2213,2214,2216,2217,2219,2220,2222,2223,2225,2226,2228,2229,2230,2231,2232,2233,2234,2235,2236,2237,2238,2240,2241,2243,2244,2245,2247,2248,2250,2251,2252,2253,2254,2255,2256,2257,2258,2260,2261,2263,2264,2266,2267,2268,2269,2270,2272,2273,2275,2276,2278,2279,2281,2282,2284,2285,2287,2288,2290,2291,2293,2294,2296,2297,2299,2300,2302,2303,2305,2306,2308,2309,2311,2312,2314,2315,2316,2317,2318,2319,2320,2321,2322,2324,2325,2326,2327,2328,2330,2331,2333,2334,2336,2337,2339,2340,2342,2343,2345,2346,2348,2349,2351,2352,2354,2355,2356,2358,2359,2360,2362,2363,2364,2366,2367,2368,2370,2371,2372,2374,2375,2376,2378,2379,2380,2382,2383,2384,2386,2387,2388,2390,2391,2392,2394,2395,2396,2398,2399,2400,2402,2403,2404,2406,2407,2408,2410,2411,2412,2414,2415,2416,2418,2419,2420,2422,2423,2424,2426,2427,2428,2430,2431,2432,2434,2435,2436,2438,2439,2440,2442,2443,2444,2446,2447,2448,2450,2451,2452,2454,2455,2456,2458,2459,2460,2462,2463,2464,2466,2467,2468,2470,2471,2472,2474,2475,2476,2478,2479,2480,2482,2483,2484,2486,2487,2488,2490,2491,2492,2494,2495,2496,2498,2499,2500,2502,2503,2504,2506,2507,2508,2510,2511,2512,2514,2515,2516,2518,2519,2520,2522,2523,2524,2526,2527,2528,2530,2531,2532,2534,2535,2536,2538,2539,2540,2542,2543,2544,2546,2547,2548,2550,2551,2552,2554,2555,2556,2558,2559,2560,2562,2563,2565,2566,2568,2569,2570,2571,2572,2573,2574,2575,2576,2577,2578,2579,2580,2581,2582,2583,2584,2585,2586,2587,2588,2589,2590,2591,2592,2593,2594,2595,2596,2597,2598,2599,2600,2601,2602,2603,2604,2605,2606,2607,2608,2609,2610,2611,2612,2613,2614,2616,2617,2618,2619,2620,2621,2622,2624,2625,2626,2628,2629,2630,2632,2633,2634,2635,2636,2637,2638,2639,2640,2641,2642,2643,2645,2646,2648,2649,2650,2652,2653,2654,2656,2657,2659,2660,2661,2662,2663,2665,2666,2668,2669,2670,2671,2672,2673,2674,2675,2676,2677,2678,2679,2680,2681,2682,2683,2684,2685,2686,2687,2688,2689,2690,2691,2692,2693,2694,2695,2696,2697,2698,2699,2700,2701,2702,2703,2704,2705,2706,2707,2708,2709,2710,2711,2712,2713,2714,2715,2716,2717,2718,2719,2720,2721,2722,2723,2724,2725,2726,2727,2728,2729,2731,2732,2734,2735,2737,2738,2740,2741,2743,2744,2746,2747,2749,2750,2752,2753,2754,2755,2757,2758,2760,2761,2763,2764,2765,2766,2767,2768,2769,2770,2771,2772,2773,2774,2775,2776,2778,2779,2781,2782,2784,2785,2787,2788,2789,2790,2791,2792,2793,2794,2795,2796,2797,2798,2799,2800,2801,2802,2803,2804,2805,2806,2807,2808,2809,2810,2811,2812,2813,2814,2815,2816,2817,2818,2819,2820,2821,2822,2823,2824,2825,2826,2827,2828,2829,2830,2832,2833,2835,2836,2838,2839,2841,2842,2844,2845,2847,2848,2850,2851,2853,2854,2856,2857,2859,2860,2861,2862,2863,2865,2866,2868,2869,2870,2871,2872,2874,2875,2877,2878,2880,2881,2883,2884,2886,2887,2889,2890,2892,2893,2895,2896,2898,2899,2901,2902,2903,2904,2905,2906,2907,2908,2909,2910,2911,2912,2913,2914,2915,2916,2917,2918,2919,2920,2922,2923,2925,2926,2927,2930,2931,2933,2934,2936,2937,2939,2940,2942,2943,2945,2946,2948,2949,2950,2952,2953,2955,2956,2958,2959,2961,2962,2964,2965,2967,2968,2970,2971,2973,2974,2976,2977,2979,2980,2982,2983,2985,2986,2988,2989,2991,2992,2994,2995,2997,2998,3000,3001,3003,3004,3006,3007,3009,3010,3012,3013,3015,3016,3018,3019,3021,3022,3024,3025,3027,3028,3030,3031,3033,3034,3036,3037,3039,3040,3042,3043,3045,3046,3048,3049,3051,3052,3054,3055,3057,3058,3060,3061,3062,3064,3065,3067,3068,3070,3071,3073,3074,3075,3076,3078,3079,3081,3082,3084,3085,3087,3088,3090,3091,3093,3094,3096,3097,3099,3100,3102,3103,3105,3106,3108,3109,3111,3112,3114,3115,3117,3118,3120,3121,3123,3124,3126,3127,3129,3130,3132,3133,3135,3136,3138,3139,3141,3142,3144,3145,3147,3148,3149,3151,3152,3154,3155,3157,3158,3160,3161,3163,3164,3166,3167,3169,3170,3172,3173,3175,3176,3178,3179,3181,3182,3184,3185,3186,3187,3188,3189,3190,3191,3192,3193,3194,3195,3196,3197,3198,3199,3200,3201,3202,3203,3204,3205,3206,3207,3208,3209,3210,3211,3212,3213,3214,3215,3216,3217,3218,3219,3220,3221,3222,3223,3224,3225,3226,3227,3228,3229,3230,3231,3232,3233,3234,3235,3236,3237,3238,3239,3240,3241,3242,3243,3244,3245,3246,3247,3248,3249,3250,3251,3252,3253,3254,3255,3256,3257,3258,3259,3260,3261,3262,3263,3264,3265,3266,3267,3268,3269,3270,3271,3272,3273,3274,3275,3276,3277,3278,3279,3280,3281,3282,3283,3284,3285,3286,3287,3288,3289,3290,3291,3292,3293,3294,3295,3296,3297,3298,3299,3300,3301,3302,3303,3304,3305,3306,3307,3308,3309,3310,3311,3312,3313,3314,3315,3316,3317,3318,3319,3320,3321,3322,3323,3324,3325,3326,3327,3328,3329,3330,3331,3332,3333,3334,3335,3336,3337,3338,3339,3340,3341,3342,3343,3344,3345,3346,3347,3348) have mixed types. Specify dtype option on import or set low_memory=False.\n",
      "  df_ctg = pd.read_csv('../data/ctg-smallmol-cancer.csv')\n"
     ]
    }
   ],
   "source": [
    "import pandas as pd \n",
    "df_ctg = pd.read_csv('../data/ctg-smallmol-cancer.csv')\n",
    "\n",
    "drop_cols = [col for col in df_ctg.columns if 'Unnamed' in col]\n",
    "df_ctg = df_ctg.drop(columns=drop_cols)"
   ]
  },
  {
   "cell_type": "code",
   "execution_count": 99,
   "metadata": {},
   "outputs": [
    {
     "data": {
      "text/plain": [
       "30"
      ]
     },
     "execution_count": 99,
     "metadata": {},
     "output_type": "execute_result"
    }
   ],
   "source": [
    "len(df_ctg.columns)"
   ]
  },
  {
   "cell_type": "code",
   "execution_count": 71,
   "metadata": {},
   "outputs": [
    {
     "data": {
      "text/plain": [
       "Brief Summary\n",
       "SGX523 is a drug which acts by blocking the function of an enzyme called MET. MET activity may be important in growth and survival of some types of cancer. This Phase I trial is studying the safety, side effects, and best dose of SGX523 when given to patients with advanced cancer, and how well it inhibits MET activity in tumors.                                                                                                                                                                                                                                                                                                                                                                                                                                                                                                                                                                                                                                                                       2\n",
       "LEE011 is a small molecule inhibitor of CDK4/6. LEE011 has demonstrated in vitro and in vivo activity in both tumor models. The primary purpose of this study was to determine the maximum tolerated dose (MTD) and/or recommended dose for expansion (RDE) in pediatric patients and to delineate a clinical dose to be used in future studies. This study was also to have assessed the safety, tolerability, PK and preliminary evidence of antitumor activity of LEE011 in patients with MRT or neuroblastoma.                                                                                                                                                                                                                                                                                                                                                                                                                                                                                               1\n",
       "This is a Phase 1b open-label, 2-part study in 2 treatment groups. The 2 treatment groups are as follows:\\n\\nTreatment Group 1: OP-1250 in combination with ribociclib (KISQALI®, Novartis Pharmaceuticals Corporation).\\n\\nTreatment Group 2: OP-1250 in combination with alpelisib (PIQRAY®, Novartis Pharmaceuticals Corporation).                                                                                                                                                                                                                                                                                                                                                                                                                                                                                                                                                                                                                                                                            1\n",
       "This is a Phase 1, Open-Label Study of ABSK043 to Assess Safety, Tolerability, and Pharmacokinetics in Patients with Advanced Solid Tumor.\\n\\nPreliminary antitumor activity will also be assessed. Investigate the pharmacodynamics (PD) effects and Investigate the metabolites of oral ABSK043                                                                                                                                                                                                                                                                                                                                                                                                                                                                                                                                                                                                                                                                                                                1\n",
       "This clinical trial is a Phase 1-2, open-label, sequential-group, dose-escalation and cohort-expansion study evaluating the safety, pharmacokinetics, pharmacodynamics, and antitumor activity of Tomivosertib (eFT-508). The study will evaluate oral daily administration of Tomivosertib (eFT-508). Treatment and study subject evaluation will be performed in 21-day cycles.                                                                                                                                                                                                                                                                                                                                                                                                                                                                                                                                                                                                                                1\n",
       "                                                                                                                                                                                                                                                                                                                                                                                                                                                                                                                                                                                                                                                                                                                                                                                                                                                                                                                                                                                                                ..\n",
       "This is a multi-center, first-in-human, open-label, Phase 1/2A dose-escalation study in which eligible patients with metastatic castration-resistant prostate carcinoma (mCRPC) will receive oral doses of TRC253. The study will be conducted in 2 parts: part 1 (dose escalation) and part 2 (dose expansion).                                                                                                                                                                                                                                                                                                                                                                                                                                                                                                                                                                                                                                                                                                 1\n",
       "Patients between 4-21 years of age with at least one wart or molluscum lesion are eligible to participate in this study. The duration of the study is a minimum of 4 weeks with the maximum duration of monthly treatments for one year, depending on lesion clearance. The number of lesions will be chosen by the dermatologist. Patients who opt to participate will receive non-thermal, or cold, atmospheric plasma to treat all lesions selected. Safety profile as well as changes in size, pain and appearance will be measured. Photographs and dermatologist impressions will be used to measure treatment response.                                                                                                                                                                                                                                                                                                                                                                                   1\n",
       "This research study is comparing the combination of drugs Crizotinib and Enzalutamide as a possible treatment for metastatic castration-resistant prostate cancer (mCRPC).                                                                                                                                                                                                                                                                                                                                                                                                                                                                                                                                                                                                                                                                                                                                                                                                                                       1\n",
       "This is a Phase II, open-label trial to evaluate the efficacy and safety of AK104 monotherapy or AK104 in combination with axitinib as a first-line treatment for advanced/metastatic renal cell carcinoma (RCC). There are two parts in this trial. In part 1 of this study, subjects with unresectable advanced clear cell or non-clear cell renal cell carcinoma (ccRCC or nccRCC) who had not received systemic therapy for advanced disease will be enrolled to randomly received three different dosage of AK104 monotherapy. In part 2 of this study, subjects with unresectable advanced clear cell renal cell carcinoma (ccRCC) who had not received systemic therapy for advanced disease will be enrolled to receive AK104 plus Axitinib. All subjects will receive treatment until disease progression, development of unacceptable toxicity, death, a decision by the physician or patient to withdraw from the trial. The primary endpoint is ORR per RECIST v1.1 as assessed by investigators.    1\n",
       "This is a window of opportunity study for patients with resectable squamous cell carcinoma of the oral cavity who are considered suitable for curative-intent surgical resection, with pre-operative drugs, Sitravatinib and Nivolumab.                                                                                                                                                                                                                                                                                                                                                                                                                                                                                                                                                                                                                                                                                                                                                                          1\n",
       "Name: count, Length: 402, dtype: int64"
      ]
     },
     "execution_count": 71,
     "metadata": {},
     "output_type": "execute_result"
    }
   ],
   "source": [
    "df_ctg['Brief Summary'].value_counts()"
   ]
  },
  {
   "cell_type": "code",
   "execution_count": 35,
   "metadata": {},
   "outputs": [
    {
     "data": {
      "text/plain": [
       "Sex\n",
       "United Kingdom|Novartis Investigative Site    1\n",
       "Name: count, dtype: int64"
      ]
     },
     "execution_count": 35,
     "metadata": {},
     "output_type": "execute_result"
    }
   ],
   "source": [
    "df_ctg['Sex'].value_counts()"
   ]
  },
  {
   "cell_type": "code",
   "execution_count": 96,
   "metadata": {},
   "outputs": [
    {
     "data": {
      "text/plain": [
       "30"
      ]
     },
     "execution_count": 96,
     "metadata": {},
     "output_type": "execute_result"
    }
   ],
   "source": [
    "len(ct.get_full_studies('cancer', max_studies=50, fmt='csv')[0])\n"
   ]
  },
  {
   "cell_type": "code",
   "execution_count": 98,
   "metadata": {},
   "outputs": [
    {
     "data": {
      "text/plain": [
       "{'csv': ['NCT Number',\n",
       "  'Study Title',\n",
       "  'Study URL',\n",
       "  'Acronym',\n",
       "  'Study Status',\n",
       "  'Brief Summary',\n",
       "  'Study Results',\n",
       "  'Conditions',\n",
       "  'Interventions',\n",
       "  'Primary Outcome Measures',\n",
       "  'Secondary Outcome Measures',\n",
       "  'Other Outcome Measures',\n",
       "  'Sponsor',\n",
       "  'Collaborators',\n",
       "  'Sex',\n",
       "  'Age',\n",
       "  'Phases',\n",
       "  'Enrollment',\n",
       "  'Funder Type',\n",
       "  'Study Type',\n",
       "  'Study Design',\n",
       "  'Other IDs',\n",
       "  'Start Date',\n",
       "  'Primary Completion Date',\n",
       "  'Completion Date',\n",
       "  'First Posted',\n",
       "  'Results First Posted',\n",
       "  'Last Update Posted',\n",
       "  'Locations',\n",
       "  'Study Documents'],\n",
       " 'json': ['NCTId',\n",
       "  'BriefTitle',\n",
       "  'NCTId',\n",
       "  'Acronym',\n",
       "  'OverallStatus',\n",
       "  'BriefSummary',\n",
       "  'HasResults',\n",
       "  'Condition',\n",
       "  'InterventionType',\n",
       "  'InterventionName',\n",
       "  'PrimaryOutcomeMeasure',\n",
       "  'PrimaryOutcomeDescription',\n",
       "  'PrimaryOutcomeTimeFrame',\n",
       "  'SecondaryOutcomeMeasure',\n",
       "  'SecondaryOutcomeDescription',\n",
       "  'SecondaryOutcomeTimeFrame',\n",
       "  'OtherOutcomeMeasure',\n",
       "  'OtherOutcomeDescription',\n",
       "  'OtherOutcomeTimeFrame',\n",
       "  'LeadSponsorName',\n",
       "  'CollaboratorName',\n",
       "  'Sex',\n",
       "  'MinimumAge',\n",
       "  'MaximumAge',\n",
       "  'StdAge',\n",
       "  'Phase',\n",
       "  'EnrollmentCount',\n",
       "  'LeadSponsorClass',\n",
       "  'StudyType',\n",
       "  'DesignAllocation',\n",
       "  'DesignInterventionModel',\n",
       "  'DesignMasking',\n",
       "  'DesignWhoMasked',\n",
       "  'DesignPrimaryPurpose',\n",
       "  'OrgStudyId',\n",
       "  'SecondaryId',\n",
       "  'StartDate',\n",
       "  'PrimaryCompletionDate',\n",
       "  'CompletionDate',\n",
       "  'StudyFirstPostDate',\n",
       "  'ResultsFirstSubmitDate',\n",
       "  'LastUpdatePostDate',\n",
       "  'LocationFacility',\n",
       "  'LocationCity',\n",
       "  'LocationState',\n",
       "  'LocationZip',\n",
       "  'LocationCountry',\n",
       "  'NCTId',\n",
       "  'LargeDocLabel',\n",
       "  'LargeDocFilename']}"
      ]
     },
     "execution_count": 98,
     "metadata": {},
     "output_type": "execute_result"
    }
   ],
   "source": [
    "ct.study_fields"
   ]
  },
  {
   "cell_type": "code",
   "execution_count": 269,
   "metadata": {},
   "outputs": [],
   "source": [
    "# # ! pip install pytrials\n",
    "\n",
    "# from pytrials.client import ClinicalTrials\n",
    "\n",
    "# ct = ClinicalTrials()\n",
    "\n",
    "# # Get 50 full studies related to Coronavirus and COVID in csv format.\n",
    "# studies = ct.get_study_fields(\n",
    "#     search_expr=\"breast cancer AND SEARCH[Location](AREA[LocationCountry]United States AND AREA[LocationStatus]Recruiting) AND SEARCH[Study](AREA[InterventionType]DRUG)\", \n",
    "#     max_studies=1000, \n",
    "#     fields=['NCT Number',\n",
    "#   'Study Title',\n",
    "#   'Study URL',\n",
    "#   'Acronym',\n",
    "#   'Study Status',\n",
    "#   'Brief Summary',\n",
    "#   'Study Results',\n",
    "#   'Conditions',\n",
    "#   'Interventions',\n",
    "#   'Primary Outcome Measures',\n",
    "#   'Secondary Outcome Measures',\n",
    "#   'Other Outcome Measures',\n",
    "#   'Sponsor',\n",
    "#   'Enrollment',\n",
    "#   'Collaborators',\n",
    "#   'Sex',\n",
    "#   'Age',\n",
    "#   'Phases', \n",
    "#   'Interventions', ])\n",
    "\n",
    "# dt_searchres = pd.DataFrame.from_records(studies[1:], columns=studies[0])"
   ]
  },
  {
   "cell_type": "code",
   "execution_count": 270,
   "metadata": {},
   "outputs": [],
   "source": [
    "# dt_searchres.columns"
   ]
  },
  {
   "cell_type": "code",
   "execution_count": 468,
   "metadata": {},
   "outputs": [
    {
     "name": "stdout",
     "output_type": "stream",
     "text": [
      "Fetching data from: https://clinicaltrials.gov/api/v2/studies?query.cond=breast cancer&query.intr=DRUG&query.locn=California&filter.overallStatus=ENROLLING_BY_INVITATION|RECRUITING&pageSize=100\n",
      "Fetching data from: https://clinicaltrials.gov/api/v2/studies?query.cond=breast cancer&query.intr=DRUG&query.locn=California&filter.overallStatus=ENROLLING_BY_INVITATION|RECRUITING&pageSize=100&pageToken=NF0g5JKDlPAqxQc\n",
      "Fetching data from: https://clinicaltrials.gov/api/v2/studies?query.cond=breast cancer&query.intr=DRUG&query.locn=California&filter.overallStatus=ENROLLING_BY_INVITATION|RECRUITING&pageSize=100&pageToken=NF0g5JCCk_gswwc\n"
     ]
    }
   ],
   "source": [
    "import requests\n",
    "import pandas as pd\n",
    "\n",
    "# Initial URL for the first API call\n",
    "base_url = \"https://clinicaltrials.gov/api/v2/studies\"\n",
    "params = {\n",
    "    \"query.cond\": \"breast cancer\",\n",
    "    \"query.intr\": \"DRUG\",\n",
    "    'query.locn': \"California\", \n",
    "    'filter.overallStatus':  'ENROLLING_BY_INVITATION|RECRUITING' ,\n",
    "    \"pageSize\": 100\n",
    "}\n",
    "\n",
    "# Initialize an empty list to store the data\n",
    "data_list = []\n",
    "\n",
    "# Loop until there is no nextPageToken\n",
    "while True:\n",
    "    # Print the current URL (for debugging purposes)\n",
    "    print(\"Fetching data from:\", base_url + '?' + '&'.join([f\"{k}={v}\" for k, v in params.items()]))\n",
    "    \n",
    "    # Send a GET request to the API\n",
    "    response = requests.get(base_url, params=params)\n",
    "\n",
    "    # Check if the request was successful\n",
    "    if response.status_code == 200:\n",
    "        data = response.json()  # Parse JSON response\n",
    "        studies = data.get('studies', [])  # Extract the list of studies\n",
    "\n",
    "        # Loop through each study and extract specific information\n",
    "        for study in studies:\n",
    "            # Safely access nested keys\n",
    "            nctId = study['protocolSection']['identificationModule'].get('nctId', 'Unknown')\n",
    "            briefTitle = study['protocolSection']['identificationModule'].get('briefTitle', 'Unknown')\n",
    "            officialTitle = study['protocolSection']['identificationModule'].get('OfficialTitle', 'Unknown')\n",
    "            briefSummary = study['protocolSection']['descriptionModule'].get('briefSummary', 'Unknown')\n",
    "            overallStatus = study['protocolSection']['statusModule'].get('overallStatus', 'Unknown')\n",
    "            startDate = study['protocolSection']['statusModule'].get('startDateStruct', {}).get('date', 'Unknown Date')\n",
    "            conditions = ', '.join(study['protocolSection']['conditionsModule'].get('conditions', ['No conditions listed']))\n",
    "            acronym = study['protocolSection']['identificationModule'].get('acronym', 'Unknown')\n",
    "\n",
    "            # Extract interventions safely\n",
    "            interventions_list = study['protocolSection'].get('armsInterventionsModule', {}).get('interventions', [])\n",
    "            interventions = ', '.join([intervention.get('name', 'No intervention name listed') for intervention in interventions_list]) if interventions_list else \"No interventions listed\"\n",
    "            \n",
    "            # Extract locations safely\n",
    "            locations_list = study['protocolSection'].get('contactsLocationsModule', {}).get('locations', [])\n",
    "            # location_facilities = \n",
    "            locations = ', '.join([f\"{location.get('city', 'No City')} / {location.get('state', 'No State')} / {location.get('country', 'No Country')}\" for location in locations_list]) if locations_list else \"No locations listed\"\n",
    "        \n",
    "            # Extract contact info \n",
    "            centralContact = study['protocolSection'].get('contactsLocationsModule', {}).get('centralContacts', [])\n",
    "            contact = ', '.join([f\"{contact.get('name', 'No Name')} - {contact.get('role', 'No Role')} - {contact.get('phone', 'No Phone')} - {contact.get('phoneExt', 'No phoneExt')} - {contact.get('email', 'No email')}\" for contact in centralContact]) if centralContact else \"No contact listed\"\n",
    "            \n",
    "\n",
    "            # Extract dates and phases\n",
    "            primaryCompletionDate = study['protocolSection']['statusModule'].get('primaryCompletionDateStruct', {}).get('date', 'Unknown Date')\n",
    "            studyFirstPostDate = study['protocolSection']['statusModule'].get('studyFirstPostDateStruct', {}).get('date', 'Unknown Date')\n",
    "            lastUpdatePostDate = study['protocolSection']['statusModule'].get('lastUpdatePostDateStruct', {}).get('date', 'Unknown Date')\n",
    "            studyType = study['protocolSection']['designModule'].get('studyType', 'Unknown')\n",
    "            phases = ', '.join(study['protocolSection']['designModule'].get('phases', ['Not Available']))\n",
    "\n",
    "            # Extract eligibility requirements safely \n",
    "            eligibilityCriteria = study['protocolSection']['eligibilityModule'].get('eligibilityCriteria', {})\n",
    "            sex = study['protocolSection']['eligibilityModule'].get('sex', {})\n",
    "            genderDescription = study['protocolSection']['eligibilityModule'].get('genderDescription', 'Unknown')\n",
    "            minimumAge = study['protocolSection']['eligibilityModule'].get('minimumAge', 'Unknown')\n",
    "            maximumAge = study['protocolSection']['eligibilityModule'].get('maximumAge', 'Unknown')\n",
    "            # phases = ', '.join(study['protocolSection']['designModule'].get('phases', ['Not Available']))\n",
    "\n",
    "            # Append the data to the list as a dictionary\n",
    "            data_list.append({\n",
    "                \"NCT ID\": nctId,\n",
    "                \"Acronym\": acronym,\n",
    "                \"briefTitle\": briefTitle, \n",
    "                # \"officialTitle\": officialTitle, \n",
    "                \"briefSummary\": briefSummary, \n",
    "                \"Overall Status\": overallStatus,\n",
    "                \"Start Date\": startDate,\n",
    "                \"Conditions\": conditions,\n",
    "                \"Interventions\": interventions,\n",
    "                \"Locations\": locations,\n",
    "                \"Contact\": contact, \n",
    "                \"Primary Completion Date\": primaryCompletionDate,\n",
    "                \"Study First Post Date\": studyFirstPostDate,\n",
    "                \"Last Update Post Date\": lastUpdatePostDate,\n",
    "                \"Study Type\": studyType,\n",
    "                \"Phases\": phases,\n",
    "                \n",
    "                # \n",
    "                \"Eligibility Criteria\": eligibilityCriteria,\n",
    "                \"Sex\": sex,\n",
    "                # \"Gender\": genderDescription,\n",
    "                \"Min Age\": minimumAge,\n",
    "                \"Max Age\": maximumAge,\n",
    "            })\n",
    "\n",
    "        # Check for nextPageToken and update the params or break the loop\n",
    "        nextPageToken = data.get('nextPageToken')\n",
    "        if nextPageToken:\n",
    "            params['pageToken'] = nextPageToken  # Set the pageToken for the next request\n",
    "        else:\n",
    "            break  # Exit the loop if no nextPageToken is present\n",
    "    else:\n",
    "        print(\"Failed to fetch data. Status code:\", response.status_code, response.text)\n",
    "        break"
   ]
  },
  {
   "cell_type": "code",
   "execution_count": 469,
   "metadata": {},
   "outputs": [],
   "source": [
    "# Create a DataFrame from the list of dictionaries\n",
    "df = pd.DataFrame(data_list)\n",
    "\n",
    "# # Print the DataFrame\n",
    "# print(df)\n",
    "\n",
    "# Optionally, save the DataFrame to a CSV file\n",
    "df.to_csv(\"clinical_trials_data_search_res.csv\", index=False)"
   ]
  },
  {
   "cell_type": "code",
   "execution_count": 470,
   "metadata": {},
   "outputs": [
    {
     "data": {
      "text/plain": [
       "'Nurix Therapeutics Patient Outreach - CONTACT - 4152307815 - 7815 - nx1607101@nurixtx.com'"
      ]
     },
     "execution_count": 470,
     "metadata": {},
     "output_type": "execute_result"
    }
   ],
   "source": [
    "df['Contact'].values[4]"
   ]
  },
  {
   "cell_type": "code",
   "execution_count": 321,
   "metadata": {},
   "outputs": [],
   "source": [
    "from markdown import Markdown\n",
    "from io import StringIO\n",
    "\n",
    "\n",
    "def unmark_element(element, stream=None):\n",
    "    if stream is None:\n",
    "        stream = StringIO()\n",
    "    if element.text:\n",
    "        stream.write(element.text)\n",
    "    for sub in element:\n",
    "        unmark_element(sub, stream) \n",
    "    if element.tail:\n",
    "        stream.write(element.tail)\n",
    "    return stream.getvalue()\n",
    "\n",
    "\n",
    "# patching Markdown\n",
    "Markdown.output_formats[\"plain\"] = unmark_element\n",
    "__md = Markdown(output_format=\"plain\")\n",
    "__md.stripTopLevelTags = False\n",
    "\n",
    "\n",
    "def unmark(text):\n",
    "    return __md.convert(text)"
   ]
  },
  {
   "cell_type": "code",
   "execution_count": 322,
   "metadata": {},
   "outputs": [
    {
     "data": {
      "text/plain": [
       "'Inclusion Criteria:\\n\\nRecurrent or advanced solid tumor and has disease progression after treatment with available anti-cancer therapies known to confer benefit or is intolerant to treatment.\\nEastern Cooperative Oncology Group (ECOG) performance status 0 or 1\\nAt least one measurable lesion(s) as defined by RECIST version 1.1.\\nTumor tissue, either archival or from a fresh tumor biopsy, available for testing or be willing to undergo a minimally invasive tumor biopsy to obtain tumor tissue for local testing, if not medically contraindicated, prior to Cycle 1 Day 1\\n\\nBrain magnetic resonance imaging (MRI) during the Pre- Screening/Screening period unless obtained within 30 days prior to enrollment (based on standard clinical care), if they meet either of the following criteria:\\n\\n\\nAll participants with TNBC\\n\\nParticipants with a history of brain metastases or with neurologic symptoms or signs suspicious for brain metastases.\\n\\nExclusion Criteria:\\n\\nPrior treatment with an Antibody Drug Conjugate (ADC) containing an auristatin payload. Prior treatment with another ADC containing other payloads is allowed.\\nMajor surgery within 28 days of starting study treatment, systemic anticancer therapy within the time period of 28 days or 5 half-lives of the prior therapy before starting study treatment (14 days or 5 half-lives for small molecule targeted therapy), whichever is less, or palliative radiation therapy within 14 days of starting study treatment.\\nDiagnosis of additional malignancy that required active treatment (including surgery, systemic therapy, and radiation) within 2 years prior to screening, except for adequately treated basal cell or squamous cell skin cancer, or carcinoma in situ of the breast or of the cervix.\\n\\nUntreated CNS metastases (including new and progressive brain metastases), history of leptomeningeal metastasis or carcinomatous meningitis.\\n\\n\\nParticipants are eligible if CNS metastases are adequately treated, and participants are neurologically stable for at least 2 weeks prior to enrollment.\\n\\nIn addition, participants must be either off corticosteroids, or on a stable/decreasing dose of ≤ 10 mg daily prednisone (or equivalent). Anticonvulsants are allowed except for those drugs associated with liver toxicity\\nParticipants may be eligible if CNS lesions are asymptomatic, equivocal for metastases or do not require specific therapy in the opinion of the investigator\\nPrior B7-H4 targeted treatment.\\nHistory of cirrhosis, hepatic fibrosis, esophageal or gastric varices, or other clinically significant liver diseases.\\nCurrent severe, uncontrolled systemic disease (e.g. clinically significant cardiovascular, pulmonary, or metabolic disease) or intercurrent illness that could increase the risk of serious adverse events (SAEs) or interfere with per-protocol evaluations, in the judgment of either the Sponsor or the Investigator.\\nClinically significant cardiovascular disease'"
      ]
     },
     "execution_count": 322,
     "metadata": {},
     "output_type": "execute_result"
    }
   ],
   "source": [
    "unmark(df['Eligibility Criteria'][2])"
   ]
  },
  {
   "cell_type": "code",
   "execution_count": 314,
   "metadata": {},
   "outputs": [
    {
     "data": {
      "text/plain": [
       "Index(['NCT ID', 'Acronym', 'briefTitle', 'briefSummary', 'Overall Status',\n",
       "       'Start Date', 'Conditions', 'Interventions', 'Locations',\n",
       "       'Primary Completion Date', 'Study First Post Date',\n",
       "       'Last Update Post Date', 'Study Type', 'Phases', 'Eligibility Criteria',\n",
       "       'Sex', 'Min Age', 'Max Age'],\n",
       "      dtype='object')"
      ]
     },
     "execution_count": 314,
     "metadata": {},
     "output_type": "execute_result"
    }
   ],
   "source": [
    "df.columns"
   ]
  },
  {
   "cell_type": "markdown",
   "metadata": {},
   "source": [
    "## Data visualization\n",
    "\n",
    "- age, study type, phase, Sex, min age, max age. \n",
    "- location "
   ]
  },
  {
   "cell_type": "code",
   "execution_count": 289,
   "metadata": {},
   "outputs": [
    {
     "data": {
      "text/html": [
       "<div>\n",
       "<style scoped>\n",
       "    .dataframe tbody tr th:only-of-type {\n",
       "        vertical-align: middle;\n",
       "    }\n",
       "\n",
       "    .dataframe tbody tr th {\n",
       "        vertical-align: top;\n",
       "    }\n",
       "\n",
       "    .dataframe thead th {\n",
       "        text-align: right;\n",
       "    }\n",
       "</style>\n",
       "<table border=\"1\" class=\"dataframe\">\n",
       "  <thead>\n",
       "    <tr style=\"text-align: right;\">\n",
       "      <th></th>\n",
       "      <th>Study Type</th>\n",
       "      <th>counts</th>\n",
       "    </tr>\n",
       "  </thead>\n",
       "  <tbody>\n",
       "    <tr>\n",
       "      <th>0</th>\n",
       "      <td>INTERVENTIONAL</td>\n",
       "      <td>202</td>\n",
       "    </tr>\n",
       "    <tr>\n",
       "      <th>1</th>\n",
       "      <td>OBSERVATIONAL</td>\n",
       "      <td>4</td>\n",
       "    </tr>\n",
       "  </tbody>\n",
       "</table>\n",
       "</div>"
      ],
      "text/plain": [
       "       Study Type  counts\n",
       "0  INTERVENTIONAL     202\n",
       "1   OBSERVATIONAL       4"
      ]
     },
     "execution_count": 289,
     "metadata": {},
     "output_type": "execute_result"
    }
   ],
   "source": [
    "df_st = df['Study Type'].value_counts().reset_index(name='counts')\n",
    "df_st"
   ]
  },
  {
   "cell_type": "code",
   "execution_count": 290,
   "metadata": {},
   "outputs": [
    {
     "data": {
      "text/plain": [
       "<Figure size 1500x1500 with 0 Axes>"
      ]
     },
     "metadata": {},
     "output_type": "display_data"
    },
    {
     "data": {
      "image/png": "[encoded data removed]",
      "text/plain": [
       "<Figure size 600x600 with 1 Axes>"
      ]
     },
     "metadata": {},
     "output_type": "display_data"
    }
   ],
   "source": [
    "import matplotlib.pyplot as plt\n",
    "import seaborn as sns\n",
    "plt.figure(figsize=(15,15))\n",
    "\n",
    "sns.set_style(\"whitegrid\")\n",
    "plt.figure(figsize=(6,6))\n",
    "plt.pie(df_st['counts'], labels=df_st['Study Type'], autopct=lambda x: '{:.0f}'.format(x*df_st['counts'].sum()/100))\n",
    "plt.title('Study Type Distribution')\n",
    "plt.show()"
   ]
  },
  {
   "cell_type": "code",
   "execution_count": 361,
   "metadata": {},
   "outputs": [],
   "source": [
    "df_p = df['Phases'].value_counts().reset_index(name='counts')\n",
    "\n",
    "non_phases_terms = [term for term in df_p['Phases'].values if 'phase' not in term.lower()]\n",
    "df_p.loc[len(df_p.index)] = ['N/A', df_p[df_p['Phases'].isin(non_phases_terms)].counts.sum()] \n",
    "df_p = df_p[~df_p['Phases'].isin(non_phases_terms)] "
   ]
  },
  {
   "cell_type": "code",
   "execution_count": 370,
   "metadata": {},
   "outputs": [
    {
     "data": {
      "text/html": [
       "<div>\n",
       "<style scoped>\n",
       "    .dataframe tbody tr th:only-of-type {\n",
       "        vertical-align: middle;\n",
       "    }\n",
       "\n",
       "    .dataframe tbody tr th {\n",
       "        vertical-align: top;\n",
       "    }\n",
       "\n",
       "    .dataframe thead th {\n",
       "        text-align: right;\n",
       "    }\n",
       "</style>\n",
       "<table border=\"1\" class=\"dataframe\">\n",
       "  <thead>\n",
       "    <tr style=\"text-align: right;\">\n",
       "      <th></th>\n",
       "      <th>Phases</th>\n",
       "      <th>counts</th>\n",
       "    </tr>\n",
       "  </thead>\n",
       "  <tbody>\n",
       "    <tr>\n",
       "      <th>0</th>\n",
       "      <td>PHASE2</td>\n",
       "      <td>49</td>\n",
       "    </tr>\n",
       "    <tr>\n",
       "      <th>1</th>\n",
       "      <td>PHASE1, PHASE2</td>\n",
       "      <td>49</td>\n",
       "    </tr>\n",
       "    <tr>\n",
       "      <th>2</th>\n",
       "      <td>PHASE3</td>\n",
       "      <td>44</td>\n",
       "    </tr>\n",
       "    <tr>\n",
       "      <th>3</th>\n",
       "      <td>PHASE1</td>\n",
       "      <td>42</td>\n",
       "    </tr>\n",
       "    <tr>\n",
       "      <th>6</th>\n",
       "      <td>EARLY_PHASE1</td>\n",
       "      <td>3</td>\n",
       "    </tr>\n",
       "    <tr>\n",
       "      <th>7</th>\n",
       "      <td>PHASE4</td>\n",
       "      <td>3</td>\n",
       "    </tr>\n",
       "    <tr>\n",
       "      <th>8</th>\n",
       "      <td>PHASE2, PHASE3</td>\n",
       "      <td>1</td>\n",
       "    </tr>\n",
       "    <tr>\n",
       "      <th>9</th>\n",
       "      <td>N/A</td>\n",
       "      <td>9</td>\n",
       "    </tr>\n",
       "  </tbody>\n",
       "</table>\n",
       "</div>"
      ],
      "text/plain": [
       "           Phases  counts\n",
       "0          PHASE2      49\n",
       "1  PHASE1, PHASE2      49\n",
       "2          PHASE3      44\n",
       "3          PHASE1      42\n",
       "6    EARLY_PHASE1       3\n",
       "7          PHASE4       3\n",
       "8  PHASE2, PHASE3       1\n",
       "9             N/A       9"
      ]
     },
     "execution_count": 370,
     "metadata": {},
     "output_type": "execute_result"
    }
   ],
   "source": [
    "df_p"
   ]
  },
  {
   "cell_type": "code",
   "execution_count": 369,
   "metadata": {},
   "outputs": [
    {
     "data": {
      "text/plain": [
       "{'PHASE2': 49,\n",
       " 'PHASE1, PHASE2': 49,\n",
       " 'PHASE3': 44,\n",
       " 'PHASE1': 42,\n",
       " 'EARLY_PHASE1': 3,\n",
       " 'PHASE4': 3,\n",
       " 'PHASE2, PHASE3': 1,\n",
       " 'N/A': 9}"
      ]
     },
     "execution_count": 369,
     "metadata": {},
     "output_type": "execute_result"
    }
   ],
   "source": [
    "pd.Series(df_p.counts.values,index=df_p.Phases).to_dict()"
   ]
  },
  {
   "cell_type": "code",
   "execution_count": 363,
   "metadata": {},
   "outputs": [
    {
     "data": {
      "text/plain": [
       "{'Phases': {0: 'PHASE2',\n",
       "  1: 'PHASE1, PHASE2',\n",
       "  2: 'PHASE3',\n",
       "  3: 'PHASE1',\n",
       "  6: 'EARLY_PHASE1',\n",
       "  7: 'PHASE4',\n",
       "  8: 'PHASE2, PHASE3',\n",
       "  9: 'N/A'},\n",
       " 'counts': {0: 49, 1: 49, 2: 44, 3: 42, 6: 3, 7: 3, 8: 1, 9: 9}}"
      ]
     },
     "execution_count": 363,
     "metadata": {},
     "output_type": "execute_result"
    }
   ],
   "source": [
    "df_p.to_dict()"
   ]
  },
  {
   "cell_type": "code",
   "execution_count": 292,
   "metadata": {},
   "outputs": [
    {
     "data": {
      "text/plain": [
       "<Figure size 1500x1500 with 0 Axes>"
      ]
     },
     "metadata": {},
     "output_type": "display_data"
    },
    {
     "data": {
      "image/png": "[encoded data removed]",
      "text/plain": [
       "<Figure size 600x600 with 1 Axes>"
      ]
     },
     "metadata": {},
     "output_type": "display_data"
    }
   ],
   "source": [
    "plt.figure(figsize=(15,15))\n",
    "\n",
    "sns.set_style(\"whitegrid\")\n",
    "plt.figure(figsize=(6,6))\n",
    "plt.pie(df_p['counts'], labels=df_p['Phases'], autopct=lambda x: '{:.0f}'.format(x*df_p['counts'].sum()/100))\n",
    "plt.title('Study Phase Distribution')\n",
    "plt.show()"
   ]
  },
  {
   "cell_type": "code",
   "execution_count": 293,
   "metadata": {},
   "outputs": [
    {
     "data": {
      "text/html": [
       "<div>\n",
       "<style scoped>\n",
       "    .dataframe tbody tr th:only-of-type {\n",
       "        vertical-align: middle;\n",
       "    }\n",
       "\n",
       "    .dataframe tbody tr th {\n",
       "        vertical-align: top;\n",
       "    }\n",
       "\n",
       "    .dataframe thead th {\n",
       "        text-align: right;\n",
       "    }\n",
       "</style>\n",
       "<table border=\"1\" class=\"dataframe\">\n",
       "  <thead>\n",
       "    <tr style=\"text-align: right;\">\n",
       "      <th></th>\n",
       "      <th>Sex</th>\n",
       "      <th>counts</th>\n",
       "    </tr>\n",
       "  </thead>\n",
       "  <tbody>\n",
       "    <tr>\n",
       "      <th>0</th>\n",
       "      <td>ALL</td>\n",
       "      <td>176</td>\n",
       "    </tr>\n",
       "    <tr>\n",
       "      <th>1</th>\n",
       "      <td>FEMALE</td>\n",
       "      <td>30</td>\n",
       "    </tr>\n",
       "  </tbody>\n",
       "</table>\n",
       "</div>"
      ],
      "text/plain": [
       "      Sex  counts\n",
       "0     ALL     176\n",
       "1  FEMALE      30"
      ]
     },
     "execution_count": 293,
     "metadata": {},
     "output_type": "execute_result"
    }
   ],
   "source": [
    "df_s = df['Sex'].dropna().value_counts().reset_index(name='counts')\n",
    "df_s"
   ]
  },
  {
   "cell_type": "code",
   "execution_count": 356,
   "metadata": {},
   "outputs": [],
   "source": [
    "data_st = df['Study Type'].value_counts().to_dict()"
   ]
  },
  {
   "cell_type": "code",
   "execution_count": 357,
   "metadata": {},
   "outputs": [
    {
     "data": {
      "text/plain": [
       "{'INTERVENTIONAL': 196, 'OBSERVATIONAL': 4}"
      ]
     },
     "execution_count": 357,
     "metadata": {},
     "output_type": "execute_result"
    }
   ],
   "source": [
    "data_st"
   ]
  },
  {
   "cell_type": "code",
   "execution_count": 294,
   "metadata": {},
   "outputs": [
    {
     "data": {
      "text/plain": [
       "<Figure size 1500x1500 with 0 Axes>"
      ]
     },
     "metadata": {},
     "output_type": "display_data"
    },
    {
     "data": {
      "image/png": "[encoded data removed]",
      "text/plain": [
       "<Figure size 600x600 with 1 Axes>"
      ]
     },
     "metadata": {},
     "output_type": "display_data"
    }
   ],
   "source": [
    "plt.figure(figsize=(15,15))\n",
    "\n",
    "sns.set_style(\"whitegrid\")\n",
    "plt.figure(figsize=(6,6))\n",
    "plt.pie(df_s['counts'], labels=df_s['Sex'], autopct=lambda x: '{:.0f}'.format(x*df_s['counts'].sum()/100))\n",
    "plt.title('Study Recruitment Sex Requirement Distribution')\n",
    "plt.show()"
   ]
  },
  {
   "cell_type": "code",
   "execution_count": 295,
   "metadata": {},
   "outputs": [],
   "source": [
    "df_stat = df[df['Min Age']].dropna().value_counts().reset_index(name='counts')"
   ]
  },
  {
   "cell_type": "code",
   "execution_count": 339,
   "metadata": {},
   "outputs": [],
   "source": [
    "df_ = df.copy()"
   ]
  },
  {
   "cell_type": "code",
   "execution_count": 340,
   "metadata": {},
   "outputs": [
    {
     "name": "stderr",
     "output_type": "stream",
     "text": [
      "/var/folders/55/cwx6q2h16k1f7mlmfr7md0hc0000gn/T/ipykernel_1162/3407202918.py:1: FutureWarning: A value is trying to be set on a copy of a DataFrame or Series through chained assignment using an inplace method.\n",
      "The behavior will change in pandas 3.0. This inplace method will never work because the intermediate object on which we are setting values always behaves as a copy.\n",
      "\n",
      "For example, when doing 'df[col].method(value, inplace=True)', try using 'df.method({col: value}, inplace=True)' or df[col] = df[col].method(value) instead, to perform the operation inplace on the original object.\n",
      "\n",
      "\n",
      "  df_['Min Age'].replace('Unknown', '0 years', inplace=True)\n",
      "/var/folders/55/cwx6q2h16k1f7mlmfr7md0hc0000gn/T/ipykernel_1162/3407202918.py:2: FutureWarning: ChainedAssignmentError: behaviour will change in pandas 3.0!\n",
      "You are setting values through chained assignment. Currently this works in certain cases, but when using Copy-on-Write (which will become the default behaviour in pandas 3.0) this will never work to update the original DataFrame or Series, because the intermediate object on which we are setting values will behave as a copy.\n",
      "A typical example is when you are setting values in a column of a DataFrame, like:\n",
      "\n",
      "df[\"col\"][row_indexer] = value\n",
      "\n",
      "Use `df.loc[row_indexer, \"col\"] = values` instead, to perform the assignment in a single step and ensure this keeps updating the original `df`.\n",
      "\n",
      "See the caveats in the documentation: https://pandas.pydata.org/pandas-docs/stable/user_guide/indexing.html#returning-a-view-versus-a-copy\n",
      "\n",
      "  df_['Max Age'][df_['Max Age'] == 'Unknown'] = df_['Min Age']\n"
     ]
    }
   ],
   "source": [
    "df_['Min Age'].replace('Unknown', '0 years', inplace=True)\n",
    "df_['Max Age'][df_['Max Age'] == 'Unknown'] = df_['Min Age']\n",
    "# df['Max Age'].replace('Unknown', '150 years', inplace=True)\n",
    "\n",
    "df_['Min Age'] = df_['Min Age'].apply(lambda x: [int(i) for i in x.split() if i.isdigit()][0])\n",
    "df_['Max Age'] = df_['Max Age'].apply(lambda x: [int(i) for i in x.split() if i.isdigit()][0])"
   ]
  },
  {
   "cell_type": "code",
   "execution_count": 341,
   "metadata": {},
   "outputs": [
    {
     "data": {
      "text/html": [
       "<div>\n",
       "<style scoped>\n",
       "    .dataframe tbody tr th:only-of-type {\n",
       "        vertical-align: middle;\n",
       "    }\n",
       "\n",
       "    .dataframe tbody tr th {\n",
       "        vertical-align: top;\n",
       "    }\n",
       "\n",
       "    .dataframe thead th {\n",
       "        text-align: right;\n",
       "    }\n",
       "</style>\n",
       "<table border=\"1\" class=\"dataframe\">\n",
       "  <thead>\n",
       "    <tr style=\"text-align: right;\">\n",
       "      <th></th>\n",
       "      <th>Min Age</th>\n",
       "      <th>Max Age</th>\n",
       "    </tr>\n",
       "  </thead>\n",
       "  <tbody>\n",
       "    <tr>\n",
       "      <th>0</th>\n",
       "      <td>0</td>\n",
       "      <td>0</td>\n",
       "    </tr>\n",
       "    <tr>\n",
       "      <th>1</th>\n",
       "      <td>18</td>\n",
       "      <td>75</td>\n",
       "    </tr>\n",
       "    <tr>\n",
       "      <th>2</th>\n",
       "      <td>18</td>\n",
       "      <td>18</td>\n",
       "    </tr>\n",
       "    <tr>\n",
       "      <th>3</th>\n",
       "      <td>18</td>\n",
       "      <td>18</td>\n",
       "    </tr>\n",
       "    <tr>\n",
       "      <th>4</th>\n",
       "      <td>18</td>\n",
       "      <td>18</td>\n",
       "    </tr>\n",
       "    <tr>\n",
       "      <th>...</th>\n",
       "      <td>...</td>\n",
       "      <td>...</td>\n",
       "    </tr>\n",
       "    <tr>\n",
       "      <th>201</th>\n",
       "      <td>18</td>\n",
       "      <td>18</td>\n",
       "    </tr>\n",
       "    <tr>\n",
       "      <th>202</th>\n",
       "      <td>18</td>\n",
       "      <td>70</td>\n",
       "    </tr>\n",
       "    <tr>\n",
       "      <th>203</th>\n",
       "      <td>18</td>\n",
       "      <td>18</td>\n",
       "    </tr>\n",
       "    <tr>\n",
       "      <th>204</th>\n",
       "      <td>18</td>\n",
       "      <td>18</td>\n",
       "    </tr>\n",
       "    <tr>\n",
       "      <th>205</th>\n",
       "      <td>18</td>\n",
       "      <td>18</td>\n",
       "    </tr>\n",
       "  </tbody>\n",
       "</table>\n",
       "<p>206 rows × 2 columns</p>\n",
       "</div>"
      ],
      "text/plain": [
       "     Min Age  Max Age\n",
       "0          0        0\n",
       "1         18       75\n",
       "2         18       18\n",
       "3         18       18\n",
       "4         18       18\n",
       "..       ...      ...\n",
       "201       18       18\n",
       "202       18       70\n",
       "203       18       18\n",
       "204       18       18\n",
       "205       18       18\n",
       "\n",
       "[206 rows x 2 columns]"
      ]
     },
     "execution_count": 341,
     "metadata": {},
     "output_type": "execute_result"
    }
   ],
   "source": [
    "df_[['Min Age', 'Max Age']]"
   ]
  },
  {
   "cell_type": "code",
   "execution_count": 352,
   "metadata": {},
   "outputs": [
    {
     "data": {
      "image/png": "[encoded data removed]",
      "text/plain": [
       "<Figure size 1000x300 with 2 Axes>"
      ]
     },
     "metadata": {},
     "output_type": "display_data"
    }
   ],
   "source": [
    "import numpy as np\n",
    "import matplotlib.pyplot as plt\n",
    "import matplotlib.colors as mcolors\n",
    "\n",
    "# Sample data\n",
    "data = {\n",
    "    'min_age': df_['Min Age'].values,\n",
    "    'max_age': df_['Max Age'].values\n",
    "}\n",
    "\n",
    "# Create an array for age counts\n",
    "max_age = max(data['max_age'])\n",
    "age_counts = np.zeros(max_age + 1)  # Include max_age\n",
    "\n",
    "# Increment counts for each range in the array\n",
    "for min_age, max_age in zip(data['min_age'], data['max_age']):\n",
    "    age_counts[min_age:max_age + 1] += 1\n",
    "\n",
    "# Plotting\n",
    "fig, ax = plt.subplots(figsize=(10, 3))\n",
    "cmap = plt.get_cmap('viridis')  # Use a blue color map\n",
    "norm = mcolors.Normalize(vmin=np.min(age_counts), vmax=np.max(age_counts))\n",
    "\n",
    "ax.bar(range(len(age_counts)), [1] * len(age_counts), color=cmap(norm(age_counts)), width=1)\n",
    "ax.set_yticks([])\n",
    "ax.set_xlabel('Age')\n",
    "ax.set_title('Age Range Overlaps')\n",
    "\n",
    "# Creating a colorbar\n",
    "sm = plt.cm.ScalarMappable(cmap=cmap, norm=norm)\n",
    "sm.set_array([])\n",
    "plt.colorbar(sm, ax=ax, orientation='vertical', label='Overlap Intensity')\n",
    "\n",
    "plt.show()\n"
   ]
  },
  {
   "cell_type": "code",
   "execution_count": 351,
   "metadata": {},
   "outputs": [
    {
     "data": {
      "image/png": "[encoded data removed]",
      "text/plain": [
       "<Figure size 1200x300 with 2 Axes>"
      ]
     },
     "metadata": {},
     "output_type": "display_data"
    }
   ],
   "source": [
    "# Define 10 color groups\n",
    "max_count = np.max(age_counts)\n",
    "color_bins = np.linspace(0, max_count, 5)  # Generate 11 edges for 10 bins\n",
    "color_indices = np.digitize(age_counts, color_bins, right=True) - 1  # Map counts to bins\n",
    "\n",
    "# Color map with 10 discrete colors\n",
    "cmap = plt.get_cmap('viridis')  # 'tab10' colormap has 10 distinct colors\n",
    "colors = cmap(np.linspace(0, 1, 5))\n",
    "\n",
    "# Plotting\n",
    "fig, ax = plt.subplots(figsize=(12, 3))\n",
    "bars = ax.bar(range(len(age_counts)), [1] * len(age_counts), color=colors[color_indices], width=1)\n",
    "\n",
    "ax.set_yticks([])\n",
    "ax.set_xlabel('Age')\n",
    "ax.set_title('Age Range Overlaps')\n",
    "\n",
    "# Creating a colorbar with 10 discrete colors\n",
    "cmap_discrete = mcolors.ListedColormap(colors)\n",
    "bounds = color_bins\n",
    "norm = mcolors.BoundaryNorm(bounds, cmap_discrete.N)\n",
    "sm = plt.cm.ScalarMappable(cmap=cmap_discrete, norm=norm)\n",
    "sm.set_array([])\n",
    "cbar = plt.colorbar(sm, ax=ax, boundaries=bounds, ticks=bounds, spacing='proportional')\n",
    "cbar.set_label('Overlap Intensity')\n",
    "\n",
    "plt.show()"
   ]
  },
  {
   "cell_type": "code",
   "execution_count": 483,
   "metadata": {},
   "outputs": [],
   "source": [
    "cities_list = [cities.split(', ') for cities in df['Locations'].values.tolist()]\n",
    "cities_list = [city for cities in cities_list for city in cities if '/' in city and len(city.split(' / '))==3]\n",
    "cities = [city.split(' / ')[0] for city in cities_list]\n",
    "states = [city.split(' / ')[1] for city in cities_list]\n",
    "countries = [city.split(' / ')[2] for city in cities_list]"
   ]
  },
  {
   "cell_type": "code",
   "execution_count": 477,
   "metadata": {},
   "outputs": [],
   "source": [
    "# for city in cities_list: \n",
    "#     try: \n",
    "#         a = city.split(' / ')\n",
    "#         assert len(a)==3\n",
    "#     except: \n",
    "#         print(city)"
   ]
  },
  {
   "cell_type": "code",
   "execution_count": 484,
   "metadata": {},
   "outputs": [
    {
     "data": {
      "text/html": [
       "<div>\n",
       "<style scoped>\n",
       "    .dataframe tbody tr th:only-of-type {\n",
       "        vertical-align: middle;\n",
       "    }\n",
       "\n",
       "    .dataframe tbody tr th {\n",
       "        vertical-align: top;\n",
       "    }\n",
       "\n",
       "    .dataframe thead th {\n",
       "        text-align: right;\n",
       "    }\n",
       "</style>\n",
       "<table border=\"1\" class=\"dataframe\">\n",
       "  <thead>\n",
       "    <tr style=\"text-align: right;\">\n",
       "      <th></th>\n",
       "      <th>city</th>\n",
       "      <th>state</th>\n",
       "      <th>country</th>\n",
       "      <th>counts</th>\n",
       "    </tr>\n",
       "  </thead>\n",
       "  <tbody>\n",
       "    <tr>\n",
       "      <th>0</th>\n",
       "      <td>Seoul</td>\n",
       "      <td>No State</td>\n",
       "      <td>Korea</td>\n",
       "      <td>185</td>\n",
       "    </tr>\n",
       "    <tr>\n",
       "      <th>1</th>\n",
       "      <td>Las Vegas</td>\n",
       "      <td>Nevada</td>\n",
       "      <td>United States</td>\n",
       "      <td>159</td>\n",
       "    </tr>\n",
       "    <tr>\n",
       "      <th>2</th>\n",
       "      <td>New York</td>\n",
       "      <td>New York</td>\n",
       "      <td>United States</td>\n",
       "      <td>156</td>\n",
       "    </tr>\n",
       "    <tr>\n",
       "      <th>3</th>\n",
       "      <td>Houston</td>\n",
       "      <td>Texas</td>\n",
       "      <td>United States</td>\n",
       "      <td>150</td>\n",
       "    </tr>\n",
       "    <tr>\n",
       "      <th>4</th>\n",
       "      <td>Madrid</td>\n",
       "      <td>No State</td>\n",
       "      <td>Spain</td>\n",
       "      <td>132</td>\n",
       "    </tr>\n",
       "    <tr>\n",
       "      <th>...</th>\n",
       "      <td>...</td>\n",
       "      <td>...</td>\n",
       "      <td>...</td>\n",
       "      <td>...</td>\n",
       "    </tr>\n",
       "    <tr>\n",
       "      <th>3854</th>\n",
       "      <td>Meldola</td>\n",
       "      <td>FC</td>\n",
       "      <td>Italy</td>\n",
       "      <td>1</td>\n",
       "    </tr>\n",
       "    <tr>\n",
       "      <th>3855</th>\n",
       "      <td>Melbourne</td>\n",
       "      <td>Florida</td>\n",
       "      <td>United States</td>\n",
       "      <td>1</td>\n",
       "    </tr>\n",
       "    <tr>\n",
       "      <th>3856</th>\n",
       "      <td>Meizhou</td>\n",
       "      <td>Other</td>\n",
       "      <td>China</td>\n",
       "      <td>1</td>\n",
       "    </tr>\n",
       "    <tr>\n",
       "      <th>3857</th>\n",
       "      <td>Bengbu City</td>\n",
       "      <td>No State</td>\n",
       "      <td>China</td>\n",
       "      <td>1</td>\n",
       "    </tr>\n",
       "    <tr>\n",
       "      <th>3858</th>\n",
       "      <td>Lyon</td>\n",
       "      <td>Rhône</td>\n",
       "      <td>France</td>\n",
       "      <td>1</td>\n",
       "    </tr>\n",
       "  </tbody>\n",
       "</table>\n",
       "<p>3859 rows × 4 columns</p>\n",
       "</div>"
      ],
      "text/plain": [
       "             city     state        country  counts\n",
       "0           Seoul  No State          Korea     185\n",
       "1       Las Vegas    Nevada  United States     159\n",
       "2        New York  New York  United States     156\n",
       "3         Houston     Texas  United States     150\n",
       "4          Madrid  No State          Spain     132\n",
       "...           ...       ...            ...     ...\n",
       "3854      Meldola        FC          Italy       1\n",
       "3855    Melbourne   Florida  United States       1\n",
       "3856      Meizhou     Other          China       1\n",
       "3857  Bengbu City  No State          China       1\n",
       "3858         Lyon     Rhône         France       1\n",
       "\n",
       "[3859 rows x 4 columns]"
      ]
     },
     "execution_count": 484,
     "metadata": {},
     "output_type": "execute_result"
    }
   ],
   "source": [
    "df_locs = pd.DataFrame(data={'city':cities, 'state':states, 'country':countries})\n",
    "df_locs = df_locs.value_counts().reset_index(name='counts')\n",
    "df_locs "
   ]
  },
  {
   "cell_type": "code",
   "execution_count": 485,
   "metadata": {},
   "outputs": [
    {
     "data": {
      "text/html": [
       "<div>\n",
       "<style scoped>\n",
       "    .dataframe tbody tr th:only-of-type {\n",
       "        vertical-align: middle;\n",
       "    }\n",
       "\n",
       "    .dataframe tbody tr th {\n",
       "        vertical-align: top;\n",
       "    }\n",
       "\n",
       "    .dataframe thead th {\n",
       "        text-align: right;\n",
       "    }\n",
       "</style>\n",
       "<table border=\"1\" class=\"dataframe\">\n",
       "  <thead>\n",
       "    <tr style=\"text-align: right;\">\n",
       "      <th></th>\n",
       "      <th>city</th>\n",
       "      <th>city_ascii</th>\n",
       "      <th>lat</th>\n",
       "      <th>lng</th>\n",
       "      <th>country</th>\n",
       "      <th>iso2</th>\n",
       "      <th>iso3</th>\n",
       "      <th>admin_name</th>\n",
       "      <th>capital</th>\n",
       "      <th>population</th>\n",
       "      <th>id</th>\n",
       "    </tr>\n",
       "  </thead>\n",
       "  <tbody>\n",
       "    <tr>\n",
       "      <th>0</th>\n",
       "      <td>Tokyo</td>\n",
       "      <td>Tokyo</td>\n",
       "      <td>35.6897</td>\n",
       "      <td>139.6922</td>\n",
       "      <td>Japan</td>\n",
       "      <td>JP</td>\n",
       "      <td>JPN</td>\n",
       "      <td>Tōkyō</td>\n",
       "      <td>primary</td>\n",
       "      <td>37732000.0</td>\n",
       "      <td>1392685764</td>\n",
       "    </tr>\n",
       "    <tr>\n",
       "      <th>1</th>\n",
       "      <td>Jakarta</td>\n",
       "      <td>Jakarta</td>\n",
       "      <td>-6.1750</td>\n",
       "      <td>106.8275</td>\n",
       "      <td>Indonesia</td>\n",
       "      <td>ID</td>\n",
       "      <td>IDN</td>\n",
       "      <td>Jakarta</td>\n",
       "      <td>primary</td>\n",
       "      <td>33756000.0</td>\n",
       "      <td>1360771077</td>\n",
       "    </tr>\n",
       "    <tr>\n",
       "      <th>2</th>\n",
       "      <td>Delhi</td>\n",
       "      <td>Delhi</td>\n",
       "      <td>28.6100</td>\n",
       "      <td>77.2300</td>\n",
       "      <td>India</td>\n",
       "      <td>IN</td>\n",
       "      <td>IND</td>\n",
       "      <td>Delhi</td>\n",
       "      <td>admin</td>\n",
       "      <td>32226000.0</td>\n",
       "      <td>1356872604</td>\n",
       "    </tr>\n",
       "    <tr>\n",
       "      <th>3</th>\n",
       "      <td>Guangzhou</td>\n",
       "      <td>Guangzhou</td>\n",
       "      <td>23.1300</td>\n",
       "      <td>113.2600</td>\n",
       "      <td>China</td>\n",
       "      <td>CN</td>\n",
       "      <td>CHN</td>\n",
       "      <td>Guangdong</td>\n",
       "      <td>admin</td>\n",
       "      <td>26940000.0</td>\n",
       "      <td>1156237133</td>\n",
       "    </tr>\n",
       "    <tr>\n",
       "      <th>4</th>\n",
       "      <td>Mumbai</td>\n",
       "      <td>Mumbai</td>\n",
       "      <td>19.0761</td>\n",
       "      <td>72.8775</td>\n",
       "      <td>India</td>\n",
       "      <td>IN</td>\n",
       "      <td>IND</td>\n",
       "      <td>Mahārāshtra</td>\n",
       "      <td>admin</td>\n",
       "      <td>24973000.0</td>\n",
       "      <td>1356226629</td>\n",
       "    </tr>\n",
       "    <tr>\n",
       "      <th>...</th>\n",
       "      <td>...</td>\n",
       "      <td>...</td>\n",
       "      <td>...</td>\n",
       "      <td>...</td>\n",
       "      <td>...</td>\n",
       "      <td>...</td>\n",
       "      <td>...</td>\n",
       "      <td>...</td>\n",
       "      <td>...</td>\n",
       "      <td>...</td>\n",
       "      <td>...</td>\n",
       "    </tr>\n",
       "    <tr>\n",
       "      <th>47863</th>\n",
       "      <td>Munha-dong</td>\n",
       "      <td>Munha-dong</td>\n",
       "      <td>39.3813</td>\n",
       "      <td>127.2517</td>\n",
       "      <td>Korea, North</td>\n",
       "      <td>KP</td>\n",
       "      <td>PRK</td>\n",
       "      <td>Kangwŏn</td>\n",
       "      <td>NaN</td>\n",
       "      <td>NaN</td>\n",
       "      <td>1408979215</td>\n",
       "    </tr>\n",
       "    <tr>\n",
       "      <th>47864</th>\n",
       "      <td>Sil-li</td>\n",
       "      <td>Sil-li</td>\n",
       "      <td>39.4880</td>\n",
       "      <td>125.4640</td>\n",
       "      <td>Korea, North</td>\n",
       "      <td>KP</td>\n",
       "      <td>PRK</td>\n",
       "      <td>P’yŏngnam</td>\n",
       "      <td>NaN</td>\n",
       "      <td>NaN</td>\n",
       "      <td>1408767958</td>\n",
       "    </tr>\n",
       "    <tr>\n",
       "      <th>47865</th>\n",
       "      <td>Muan</td>\n",
       "      <td>Muan</td>\n",
       "      <td>34.9897</td>\n",
       "      <td>126.4714</td>\n",
       "      <td>Korea, South</td>\n",
       "      <td>KR</td>\n",
       "      <td>KOR</td>\n",
       "      <td>Jeonnam</td>\n",
       "      <td>admin</td>\n",
       "      <td>NaN</td>\n",
       "      <td>1410001061</td>\n",
       "    </tr>\n",
       "    <tr>\n",
       "      <th>47866</th>\n",
       "      <td>Hongseong</td>\n",
       "      <td>Hongseong</td>\n",
       "      <td>36.6009</td>\n",
       "      <td>126.6650</td>\n",
       "      <td>Korea, South</td>\n",
       "      <td>KR</td>\n",
       "      <td>KOR</td>\n",
       "      <td>Chungnam</td>\n",
       "      <td>admin</td>\n",
       "      <td>NaN</td>\n",
       "      <td>1410822139</td>\n",
       "    </tr>\n",
       "    <tr>\n",
       "      <th>47867</th>\n",
       "      <td>Charlotte Amalie</td>\n",
       "      <td>Charlotte Amalie</td>\n",
       "      <td>18.3420</td>\n",
       "      <td>-64.9331</td>\n",
       "      <td>U.S. Virgin Islands</td>\n",
       "      <td>VI</td>\n",
       "      <td>VIR</td>\n",
       "      <td>Virgin Islands</td>\n",
       "      <td>primary</td>\n",
       "      <td>NaN</td>\n",
       "      <td>1850037473</td>\n",
       "    </tr>\n",
       "  </tbody>\n",
       "</table>\n",
       "<p>47868 rows × 11 columns</p>\n",
       "</div>"
      ],
      "text/plain": [
       "                   city        city_ascii      lat       lng  \\\n",
       "0                 Tokyo             Tokyo  35.6897  139.6922   \n",
       "1               Jakarta           Jakarta  -6.1750  106.8275   \n",
       "2                 Delhi             Delhi  28.6100   77.2300   \n",
       "3             Guangzhou         Guangzhou  23.1300  113.2600   \n",
       "4                Mumbai            Mumbai  19.0761   72.8775   \n",
       "...                 ...               ...      ...       ...   \n",
       "47863        Munha-dong        Munha-dong  39.3813  127.2517   \n",
       "47864            Sil-li            Sil-li  39.4880  125.4640   \n",
       "47865              Muan              Muan  34.9897  126.4714   \n",
       "47866         Hongseong         Hongseong  36.6009  126.6650   \n",
       "47867  Charlotte Amalie  Charlotte Amalie  18.3420  -64.9331   \n",
       "\n",
       "                   country iso2 iso3      admin_name  capital  population  \\\n",
       "0                    Japan   JP  JPN           Tōkyō  primary  37732000.0   \n",
       "1                Indonesia   ID  IDN         Jakarta  primary  33756000.0   \n",
       "2                    India   IN  IND           Delhi    admin  32226000.0   \n",
       "3                    China   CN  CHN       Guangdong    admin  26940000.0   \n",
       "4                    India   IN  IND     Mahārāshtra    admin  24973000.0   \n",
       "...                    ...  ...  ...             ...      ...         ...   \n",
       "47863         Korea, North   KP  PRK         Kangwŏn      NaN         NaN   \n",
       "47864         Korea, North   KP  PRK       P’yŏngnam      NaN         NaN   \n",
       "47865         Korea, South   KR  KOR         Jeonnam    admin         NaN   \n",
       "47866         Korea, South   KR  KOR        Chungnam    admin         NaN   \n",
       "47867  U.S. Virgin Islands   VI  VIR  Virgin Islands  primary         NaN   \n",
       "\n",
       "               id  \n",
       "0      1392685764  \n",
       "1      1360771077  \n",
       "2      1356872604  \n",
       "3      1156237133  \n",
       "4      1356226629  \n",
       "...           ...  \n",
       "47863  1408979215  \n",
       "47864  1408767958  \n",
       "47865  1410001061  \n",
       "47866  1410822139  \n",
       "47867  1850037473  \n",
       "\n",
       "[47868 rows x 11 columns]"
      ]
     },
     "execution_count": 485,
     "metadata": {},
     "output_type": "execute_result"
    }
   ],
   "source": [
    "df_cities_geo = pd.read_csv('../data/worldcities.csv')\n",
    "df_cities_geo"
   ]
  },
  {
   "cell_type": "code",
   "execution_count": 490,
   "metadata": {},
   "outputs": [],
   "source": [
    "df_mm = pd.merge(df_locs, df_cities_geo[['city', 'lat', 'lng', 'admin_name', 'country']], left_on=['city', 'state', 'country'], right_on=['city', 'admin_name', 'country'], how='inner')"
   ]
  },
  {
   "cell_type": "code",
   "execution_count": 491,
   "metadata": {},
   "outputs": [
    {
     "data": {
      "text/html": [
       "<div>\n",
       "<style scoped>\n",
       "    .dataframe tbody tr th:only-of-type {\n",
       "        vertical-align: middle;\n",
       "    }\n",
       "\n",
       "    .dataframe tbody tr th {\n",
       "        vertical-align: top;\n",
       "    }\n",
       "\n",
       "    .dataframe thead th {\n",
       "        text-align: right;\n",
       "    }\n",
       "</style>\n",
       "<table border=\"1\" class=\"dataframe\">\n",
       "  <thead>\n",
       "    <tr style=\"text-align: right;\">\n",
       "      <th></th>\n",
       "      <th>city</th>\n",
       "      <th>state</th>\n",
       "      <th>country</th>\n",
       "      <th>counts</th>\n",
       "      <th>lat</th>\n",
       "      <th>lng</th>\n",
       "      <th>admin_name</th>\n",
       "    </tr>\n",
       "  </thead>\n",
       "  <tbody>\n",
       "    <tr>\n",
       "      <th>0</th>\n",
       "      <td>Las Vegas</td>\n",
       "      <td>Nevada</td>\n",
       "      <td>United States</td>\n",
       "      <td>159</td>\n",
       "      <td>36.2333</td>\n",
       "      <td>-115.2654</td>\n",
       "      <td>Nevada</td>\n",
       "    </tr>\n",
       "    <tr>\n",
       "      <th>1</th>\n",
       "      <td>New York</td>\n",
       "      <td>New York</td>\n",
       "      <td>United States</td>\n",
       "      <td>156</td>\n",
       "      <td>40.6943</td>\n",
       "      <td>-73.9249</td>\n",
       "      <td>New York</td>\n",
       "    </tr>\n",
       "    <tr>\n",
       "      <th>2</th>\n",
       "      <td>Houston</td>\n",
       "      <td>Texas</td>\n",
       "      <td>United States</td>\n",
       "      <td>150</td>\n",
       "      <td>29.7860</td>\n",
       "      <td>-95.3885</td>\n",
       "      <td>Texas</td>\n",
       "    </tr>\n",
       "    <tr>\n",
       "      <th>3</th>\n",
       "      <td>Boston</td>\n",
       "      <td>Massachusetts</td>\n",
       "      <td>United States</td>\n",
       "      <td>127</td>\n",
       "      <td>42.3188</td>\n",
       "      <td>-71.0852</td>\n",
       "      <td>Massachusetts</td>\n",
       "    </tr>\n",
       "    <tr>\n",
       "      <th>4</th>\n",
       "      <td>Los Angeles</td>\n",
       "      <td>California</td>\n",
       "      <td>United States</td>\n",
       "      <td>117</td>\n",
       "      <td>34.1141</td>\n",
       "      <td>-118.4068</td>\n",
       "      <td>California</td>\n",
       "    </tr>\n",
       "    <tr>\n",
       "      <th>...</th>\n",
       "      <td>...</td>\n",
       "      <td>...</td>\n",
       "      <td>...</td>\n",
       "      <td>...</td>\n",
       "      <td>...</td>\n",
       "      <td>...</td>\n",
       "      <td>...</td>\n",
       "    </tr>\n",
       "    <tr>\n",
       "      <th>1355</th>\n",
       "      <td>Belo Horizonte</td>\n",
       "      <td>Minas Gerais</td>\n",
       "      <td>Brazil</td>\n",
       "      <td>1</td>\n",
       "      <td>-19.9167</td>\n",
       "      <td>-43.9333</td>\n",
       "      <td>Minas Gerais</td>\n",
       "    </tr>\n",
       "    <tr>\n",
       "      <th>1356</th>\n",
       "      <td>Midland</td>\n",
       "      <td>Texas</td>\n",
       "      <td>United States</td>\n",
       "      <td>1</td>\n",
       "      <td>32.0243</td>\n",
       "      <td>-102.1147</td>\n",
       "      <td>Texas</td>\n",
       "    </tr>\n",
       "    <tr>\n",
       "      <th>1357</th>\n",
       "      <td>Belém</td>\n",
       "      <td>Pará</td>\n",
       "      <td>Brazil</td>\n",
       "      <td>1</td>\n",
       "      <td>-1.4558</td>\n",
       "      <td>-48.5039</td>\n",
       "      <td>Pará</td>\n",
       "    </tr>\n",
       "    <tr>\n",
       "      <th>1358</th>\n",
       "      <td>Metairie</td>\n",
       "      <td>Louisiana</td>\n",
       "      <td>United States</td>\n",
       "      <td>1</td>\n",
       "      <td>29.9977</td>\n",
       "      <td>-90.1780</td>\n",
       "      <td>Louisiana</td>\n",
       "    </tr>\n",
       "    <tr>\n",
       "      <th>1359</th>\n",
       "      <td>Melbourne</td>\n",
       "      <td>Florida</td>\n",
       "      <td>United States</td>\n",
       "      <td>1</td>\n",
       "      <td>28.1086</td>\n",
       "      <td>-80.6627</td>\n",
       "      <td>Florida</td>\n",
       "    </tr>\n",
       "  </tbody>\n",
       "</table>\n",
       "<p>1360 rows × 7 columns</p>\n",
       "</div>"
      ],
      "text/plain": [
       "                city          state        country  counts      lat       lng  \\\n",
       "0          Las Vegas         Nevada  United States     159  36.2333 -115.2654   \n",
       "1           New York       New York  United States     156  40.6943  -73.9249   \n",
       "2            Houston          Texas  United States     150  29.7860  -95.3885   \n",
       "3             Boston  Massachusetts  United States     127  42.3188  -71.0852   \n",
       "4        Los Angeles     California  United States     117  34.1141 -118.4068   \n",
       "...              ...            ...            ...     ...      ...       ...   \n",
       "1355  Belo Horizonte   Minas Gerais         Brazil       1 -19.9167  -43.9333   \n",
       "1356         Midland          Texas  United States       1  32.0243 -102.1147   \n",
       "1357           Belém           Pará         Brazil       1  -1.4558  -48.5039   \n",
       "1358        Metairie      Louisiana  United States       1  29.9977  -90.1780   \n",
       "1359       Melbourne        Florida  United States       1  28.1086  -80.6627   \n",
       "\n",
       "         admin_name  \n",
       "0            Nevada  \n",
       "1          New York  \n",
       "2             Texas  \n",
       "3     Massachusetts  \n",
       "4        California  \n",
       "...             ...  \n",
       "1355   Minas Gerais  \n",
       "1356          Texas  \n",
       "1357           Pará  \n",
       "1358      Louisiana  \n",
       "1359        Florida  \n",
       "\n",
       "[1360 rows x 7 columns]"
      ]
     },
     "execution_count": 491,
     "metadata": {},
     "output_type": "execute_result"
    }
   ],
   "source": [
    "df_mm"
   ]
  },
  {
   "cell_type": "code",
   "execution_count": 496,
   "metadata": {},
   "outputs": [
    {
     "data": {
      "text/plain": [
       "'A Study of U3-1402 (Patritumab Deruxtecan) in Subjects With Metastatic Breast Cancer'"
      ]
     },
     "execution_count": 496,
     "metadata": {},
     "output_type": "execute_result"
    }
   ],
   "source": [
    "df.loc[0]['briefTitle']"
   ]
  },
  {
   "cell_type": "markdown",
   "metadata": {},
   "source": [
    "## OpenAI API"
   ]
  },
  {
   "cell_type": "code",
   "execution_count": 497,
   "metadata": {},
   "outputs": [],
   "source": [
    "## API \n",
    "\n",
    "# Once you add your API key below, make sure to not share it with anyone! The API key should remain private.\n"
   ]
  },
  {
   "cell_type": "code",
   "execution_count": 2,
   "metadata": {},
   "outputs": [],
   "source": [
    "from openai import OpenAI\n",
    "\n",
    "# Import prerequisite libraries\n",
    "import os\n",
    "import openai\n",
    "\n",
    "# Setting the API key\n",
    "openai.api_key = os.environ['OPENAI_API_KEY']\n",
    "\n",
    "client = OpenAI(\n",
    "    # This is the default and can be omitted\n",
    "    api_key=openai.api_key,\n",
    ")"
   ]
  },
  {
   "cell_type": "code",
   "execution_count": 4,
   "metadata": {},
   "outputs": [],
   "source": [
    "chat_completion = client.chat.completions.create(\n",
    "    messages=[\n",
    "        {\n",
    "            \"role\": \"user\",\n",
    "            \"content\": \"Say this is a test\",\n",
    "        }\n",
    "    ],\n",
    "    model=\"gpt-3.5-turbo\",\n",
    ")"
   ]
  },
  {
   "cell_type": "code",
   "execution_count": 10,
   "metadata": {},
   "outputs": [
    {
     "name": "stdout",
     "output_type": "stream",
     "text": [
      "This trial is comparing two different lotions, Aquaphor and Miaderm, to see which one is better for treating skin reactions caused by radiation in breast cancer patients receiving radiation therapy. Aquaphor is a petrolatum-based ointment that helps with dry skin, chapped lips, and other skin irritations, while Miaderm is a water-based cream with ingredients like calendula and aloe vera that may reduce the severity of radiation dermatitis. Patients often use these products during external beam radiation therapy, but it's unclear which one is more effective.\n"
     ]
    }
   ],
   "source": [
    "from openai import OpenAI\n",
    "client = OpenAI()\n",
    "\n",
    "summary='This clinical trial compares two supplemental topical agents (Aquaphor and Miaderm) for the treatment of acute radiation dermatitis in patients with breast cancer undergoing radiation therapy. Radiation dermatitis is a radiation-induced skin reaction which can cause itching, swelling, pain, and general discomfort. Aquaphor is a commonly available, inexpensive, petrolatum-based multi-purpose ointment designed to protect and sooth extremely dry skin, chapped lips, cracked hands and feet, minor cuts and burns, and many other skin irritations. Miaderm is a water-based cream and contains ingredients like calendula, hyaluronate, and aloe vera which may help reduce occurrence and severity of radiation dermatitis. Both are commonly recommended and used by breast cancer patients undergoing external beam radiation therapy (EBRT). However, it is not known whether one is better than the other in treating or preventing radiation dermatitis.'\n",
    "\n",
    "simple_summarizer = client.chat.completions.create(\n",
    "  model=\"gpt-3.5-turbo\",\n",
    "  messages=[\n",
    "    {\"role\": \"system\", \"content\": \"You are a clinical trial assistant. \\\n",
    "     Your job is to facilitate clinical trials by explaining a trial based on the given brief summary. \\\n",
    "     You use simplified language to explain the trial, so that complex medical word can be understood by people without medical background. \\\n",
    "     Example: if the term 'topical agents' is in the prompt, you should explain that it means 'medication that is applied to the area being treated, such as in lotion form'.  \\\n",
    "     Your tone is precise, objective, and prefer simple words to explain concepts. \\\n",
    "     The expected output should not exceed the original brief summary user has given to you. \"},\n",
    "    {\"role\": \"user\", \"content\": \"Summarize and explain this trial based on the brief summary: \"+summary}\n",
    "  ]\n",
    ")\n",
    "\n",
    "print(simple_summarizer.choices[0].message.content)"
   ]
  },
  {
   "cell_type": "code",
   "execution_count": 11,
   "metadata": {},
   "outputs": [
    {
     "name": "stdout",
     "output_type": "stream",
     "text": [
      "This trial is comparing two different lotions, Aquaphor and Miaderm, to see which one is better for treating skin reactions caused by radiation in breast cancer patients receiving radiation therapy. Aquaphor is a petrolatum-based ointment that helps with dry skin, chapped lips, and other skin irritations, while Miaderm is a water-based cream with ingredients like calendula and aloe vera that may reduce the severity of radiation dermatitis. Patients often use these products during external beam radiation therapy, but it's unclear which one is more effective.\n"
     ]
    }
   ],
   "source": [
    "print(simple_summarizer.choices[0].message.content)"
   ]
  },
  {
   "cell_type": "code",
   "execution_count": null,
   "metadata": {},
   "outputs": [],
   "source": [
    "from openai import OpenAI\n",
    "client = OpenAI()\n",
    "\n",
    "elig_summarizer=\"You are a clinical trial assistant who is explaining the eligibility criteria of a trial. \\\n",
    "     Your job is to simplify this explanation process by categorizing the given eligibility criteria into 2 categories, personal information based and clinical information based. \\\n",
    "     In the personal information category, criteria included under this section should be about the patient's demographic, such as age, sex, and medical history. These should be information patient can answer. \\\n",
    "     For the clinical information category, criteria included under this section may be about specific clinical test or lab test results, such as physiological and biochemical measurements like platelets counts. These are information that patient likely do not know right off the bat and need to be obtained in hospitals. \\\n",
    "     Write each distinct criterion as a concisely worded point, and clearly distinct between inclusion and exclusion criteria. \\\n",
    "     Your result should contain 2 large sections each with 2 subfields - personal information (inclusion) and personal information (exclusion), and clinical information (inclusion) and clinical information (exclusion). \\\n",
    "     You use simplified language to explain the trial, so that complex medical word can be understood by people without medical background. \\\n",
    "     Your tone is precise, objective, and prefer simple words to explain concepts. \\\n",
    "     The expected output should not exceed the original brief summary user has given to you, and summarized points should be as concise as possible. \"\n",
    "\n",
    "\n",
    "elig_criteria = ''\n",
    "\n",
    "simple_summarizer = client.chat.completions.create(\n",
    "  model=\"gpt-3.5-turbo\",\n",
    "  messages=[\n",
    "    {\"role\": \"system\", \"content\": elig_summarizer},\n",
    "    {\"role\": \"user\", \"content\": \"Summarize and explain this trial based on the brief summary: \"+summary}\n",
    "  ]\n",
    ")\n",
    "\n",
    "print(simple_summarizer.choices[0].message.content)"
   ]
  },
  {
   "cell_type": "markdown",
   "metadata": {},
   "source": [
    "Eligibility Criteria:\n",
    "\n",
    "Inclusion criteria for Part A and B (HER2-negative) and Part Z (HER2-positive) cohorts:\n",
    "\n",
    "1. Written informed consent, according to local guidelines, signed and dated by the patient or by a legal guardian prior to the performance of any study-specific procedures, sampling, or analyses\n",
    "2. Women and men at least 18 years-of-age at the time of signature of the informed consent form (ICF)\n",
    "3. Histologically documented locally advanced or metastatic breast cancer\n",
    "4. Triple-negative breast cancer (TNBC) patients should have received at least 1 but no more than 5 prior lines of chemotherapy in the metastatic setting\n",
    "5. Parts A and B patients only: Patients with HR+ HER2-negative MBC should have received prior treatment with endocrine therapy +CDK 4/6 inhibitor. No limit to prior endocrine therapy regimens, but no more than 2 prior chemotherapy regimens in the metastatic setting are allowed. HR+ = Estrogen receptor (ER) and/or Progesterone (PgR) positivity that are defined as ≥1% of cells expressing HR via IHC analysis. HER2 negativity is defined as either of the following: IHC 0, IHC 1+, or IHC 2+/in situ hybridization (ISH) negative.\n",
    "6. Part B patients only: Patients with HER2-negative MBC will be included into one of the following 2 subgroups: 1) MBC HR+, HER2-, regardless of HER3 expression, who have received trastuzumab deruxtecan and/or sacituzumab govitecan, or, 2) mTNBC, regardless of HER3 expression, who have received sacituzumab govitecan and/or datopotamab deruxtecan.\n",
    "7. Part Z patients only: should have documented HER2-positive expression as per American Society of Clinical Oncology - College of American Pathologists guidelines based on local testing.\n",
    "8. Part Z patients only: should have had prior treatment with at least 2 anti-HER2 therapies, 1 of which must be trastuzumab deruxtecan. These patients must have experienced disease progression after receiving trastuzumab deruxtecan.\n",
    "9. At least 1 measurable lesion per Response Evaluation Criteria in Solid Tumors (RECIST) v1.1 (bone-only disease excluded)\n",
    "10. Patients who have received radiation or surgery for brain metastases are eligible if therapy was completed ≥4 weeks prior to initiation of study treatment (2 weeks for patients who received palliative radiation therapy), there is no evidence of central nervous system disease progression on a scan or mild neurologic symptoms, and there is no requirement for chronic corticosteroid therapy for the treatment of brain metastases\n",
    "11. Willingness to undergo pre-treatment biopsy and on-treatment biopsies; must have a tumor amenable to pre-treatment biopsy (unless archived tissue is available and was obtained within 2 months prior to starting treatment) and on-treatment biopsy (excludes bone lesions and previously irradiated lesions)\n",
    "12. Eastern Cooperative Oncology Group (ECOG) Performance Status score of 0 or 1\n",
    "13. Has adequate organ function within 7 days before the start of study treatment, defined as:\n",
    "\n",
    "    * Platelet count ≥100 × 109/L\n",
    "    * Hemoglobin (Hb) ≥9 g/dL (transfusion and/or growth factor support allowed)\n",
    "    * Absolute neutrophil count ≥1.5 × 109/L\n",
    "    * Prothrombin time (PT) and partial thromboplastin time (PTT) ≤1.5 × the upper limit of normal (ULN), except for patients on coumadin-derivative anticoagulants or other similar anticoagulant therapy, who must have PT-international normalized ratio (INR) within therapeutic range as deemed appropriate by the Investigator\n",
    "    * Serum creatinine ≤1.5 × ULN, or creatinine clearance ≥50 mL/min as calculated using the modified Cockcroft-Gault equation; confirmation of creatinine clearance is only required when creatinine is \\>1.5 × ULN\n",
    "    * AST/ALT ≤3 × ULN (if liver metastases are present, ≤5 × ULN)\n",
    "    * Total bilirubin ≤1.5 × ULN if no liver metastases or \\<3 × ULN in the presence of documented Gilbert's syndrome or liver metastases\n",
    "    * Serum albumin ≥2.5 g/dL\n",
    "14. Male patients with female partners of childbearing potential and female patients of childbearing potential are required to use two forms of acceptable contraception, including one barrier method, during their participation in the study and for at least 7 months following last dose. Male patients must also refrain from donating sperm during their participation in the study.\n",
    "\n",
    "Exclusion Criteria\n",
    "\n",
    "Patients who meet any of the following criteria will be excluded from study entry:\n",
    "\n",
    "Exclusion criteria for Parts A and B (HER2-negative) and Part Z (HER2-positive) cohorts:\n",
    "\n",
    "1. Treatment with any of the following:\n",
    "\n",
    "   * Any systemic anti-cancer chemotherapy, small molecule, biologic, hormonal agent, or immune checkpoint inhibitor therapy from a previous treatment regimen or clinical study within 21 days prior to the first dose of patritumab deruxtecan\n",
    "   * Prior treatment with any HER3-targeting agent\n",
    "   * Major surgery (excluding placement of vascular access) within 4 weeks of the first dose of study drug treatment\n",
    "   * Radiotherapy treatment to more than 30% of the bone marrow or with a wide field of radiation within 4 weeks of the first dose of study drug treatment, or palliative radiation therapy within 2 weeks of the first dose of study drug treatment\n",
    "   * Chloroquine /hydroxychloroquine ≤14 days prior to the first dose of study drug treatment\n",
    "2. Has any hypersensitivity to drug substances or inactive ingredients in drug product\n",
    "3. Has any history of ILD (including pulmonary fibrosis or radiation pneumonitis), has clinically significant ILD, or is suspected to have such disease by imaging during screening. If imaging findings are unlikely to indicate a history of pneumonitis, then the Investigator should discuss the considerations with the Medical Monitor about potential enrollment and record the reasoning in the source documentation.\n",
    "4. Clinically severe pulmonary compromise (based on Investigator's assessment) resulting from intercurrent pulmonary illnesses including, but not limited to:\n",
    "\n",
    "   * Any underlying pulmonary disorder (e.g., pulmonary emboli, severe asthma, severe chronic obstructive pulmonary disease, restrictive lung disease, pleural effusion)\n",
    "   * Any autoimmune, connective tissue or inflammatory disorder with pulmonary involvement (e.g., rheumatoid arthritis, Sjögren's syndrome, sarcoidosis)\n",
    "\n",
    "   OR prior pneumonectomy\n",
    "5. With the exception of alopecia, any unresolved toxicities from prior therapy greater than Common Terminology Criteria for Adverse Events (CTCAE) Grade 1 or baseline at the time of starting study treatment. Note: patients with chronic Grade 2 toxicities who are asymptomatic or adequately managed with stable medication may be eligible with approval by the Medical Monitor.\n",
    "6. Leptomeningeal metastases or evidence of spinal cord compression or brain metastases, defined as being clinically active and symptomatic, or requiring therapy with corticosteroids or anticonvulsants to control associated symptoms. Patients with clinically inactive or treated brain metastases who are asymptomatic (i.e., without neurologic signs or symptoms and do not require treatment with corticosteroids or anticonvulsants) may be included in the study. Patients must have a stable neurologic status for at least 2 weeks prior to Cycle 1 Day 1.\n",
    "7. Women who are pregnant, nursing, or plan to become pregnant while in the study and for at least 7 months after the last administration of study treatment\n",
    "8. Men who plan to father a child while in the study and for at least 7 months after the last administration of study treatment\n",
    "9. Uncontrolled or significant cardiovascular disorder prior to Cycle 1 Day 1, including:\n",
    "\n",
    "   * Mean resting corrected QT interval using Fridericia's formula (QTcF) prolongation to \\>470 ms for females and \\>450 ms for males in three successive screening measurements\n",
    "   * Patients with a left ventricular ejection fraction (LVEF) \\<50%\n",
    "   * Resting systolic blood pressure \\>180 mmHg or diastolic blood pressure \\>110 mmHg).\n",
    "   * Documented myocardial infarction within 6 months\n",
    "   * Congestive heart failure (New York Heart Association ≥ Grade 2 within 28 days\n",
    "10. Has known clinically significant corneal disease from prior therapies such as drug-induced keratitis\n",
    "11. Is receiving chronic systemic corticosteroids dosed at \\>10 mg prednisone or equivalent anti-inflammatory activity or any form of immunosuppressive therapy prior to Cycle 1 Day 1. Patients who require use of bronchodilators, inhaled or topical steroids, or local steroid injections may be included in the study.\n",
    "12. As judged by the Investigator, any evidence of severe or uncontrolled systemic diseases, including uncontrolled hypertension, uncontrolled diabetes mellitus, active bleeding diatheses, or active infection, including hepatitis B, hepatitis C, and human immunodeficiency virus. Screening for chronic conditions is not required.\n",
    "13. Presence of other active invasive cancers other than the one treated in this study within 3 years prior to screening, except appropriately treated basal cell carcinoma of the skin, in situ carcinoma of uterine cervix, or other local tumors considered cured by local treatment\n",
    "14. Psychological, familial, sociological, or geographical conditions that do not permit compliance with the protocol and/or follow-up procedures outlined in the protocol\n",
    "\n",
    "    Additional exclusion criteria only for Parts A and B (HER2-negative) cohorts:\n",
    "15. Patients with HER2+ breast cancer per ASCO-CAP guidelines\n",
    "16. Part A only: Prior treatment with an antibody drug conjugate that consists of an exatecan derivative that is a topoisomerase I inhibitor (e.g., trastuzumab deruxtecan, DS-1062a \\[datopotamab deruxtecan\\], and DS-7300a \\[B7-H3 DXd-ADC\\])\n",
    "17. Part B patients only: Prior treatment with trastuzumab deruxtecan, sacituzumab govitecan, and/or datopotamab deruxtecan with any of the following:\n",
    "\n",
    "    * A severe reaction or severe tolerability issues that necessitated stopping treatment with the therapy\n",
    "    * Any unresolved toxicities from the prior therapy greater than Grade 1, with the exception of alopecia\n",
    "\n",
    "    Additional exclusion criteria only for Part Z (HER2-positive) cohort:\n",
    "18. Treatment with any of the following:\n",
    "\n",
    "    * Prior treatment with an antibody drug conjugate that consists of an exatecan derivative that is a topoisomerase I inhibitor except trastuzumab deruxtecan\n",
    "    * Prior treatment with trastuzumab deruxtecan within 4 weeks prior to the first dose of patritumab deruxtecan\n",
    "19. Uncontrolled or significant cardiovascular disease, including history of myocardial infarction within 6 months before enrollment\n",
    "20. A severe reaction or severe tolerability issues that necessitated stopping treatment with trastuzumab deruxtecan\n",
    "21. Any unresolved toxicities from prior therapy with trastuzumab deruxtecan"
   ]
  },
  {
   "cell_type": "code",
   "execution_count": null,
   "metadata": {},
   "outputs": [],
   "source": []
  },
  {
   "cell_type": "markdown",
   "metadata": {},
   "source": [
    "## RAG Pipeline\n",
    "\n",
    "For generating categorized, easily patient-screenable assistant"
   ]
  },
  {
   "cell_type": "code",
   "execution_count": 2,
   "metadata": {},
   "outputs": [],
   "source": [
    "import os\n",
    "os.environ['LANGCHAIN_TRACING_V2'] = 'true'\n",
    "os.environ['LANGCHAIN_ENDPOINT'] = 'https://api.smith.langchain.com'\n",
    "os.environ['LANGCHAIN_API_KEY'] = ''"
   ]
  },
  {
   "cell_type": "code",
   "execution_count": 5,
   "metadata": {},
   "outputs": [],
   "source": [
    "# ! pip install faiss-cpu sentence-transformers"
   ]
  },
  {
   "cell_type": "code",
   "execution_count": 3,
   "metadata": {},
   "outputs": [
    {
     "name": "stderr",
     "output_type": "stream",
     "text": [
      "/Users/jessysong/miniforge3/envs/trialCompare/lib/python3.9/site-packages/tqdm/auto.py:21: TqdmWarning: IProgress not found. Please update jupyter and ipywidgets. See https://ipywidgets.readthedocs.io/en/stable/user_install.html\n",
      "  from .autonotebook import tqdm as notebook_tqdm\n",
      "/Users/jessysong/miniforge3/envs/trialCompare/lib/python3.9/site-packages/huggingface_hub/file_download.py:1132: FutureWarning: `resume_download` is deprecated and will be removed in version 1.0.0. Downloads always resume when possible. If you want to force a new download, use `force_download=True`.\n",
      "  warnings.warn(\n"
     ]
    }
   ],
   "source": [
    "from transformers import AutoTokenizer, AutoModel\n",
    "\n",
    "from tqdm import tqdm\n",
    "## https://huggingface.co/medicalai/ClinicalBERT\n",
    "tokenizer = AutoTokenizer.from_pretrained(\"medicalai/ClinicalBERT\")\n",
    "model = AutoModel.from_pretrained(\"medicalai/ClinicalBERT\")\n"
   ]
  },
  {
   "cell_type": "code",
   "execution_count": 72,
   "metadata": {},
   "outputs": [],
   "source": [
    "from langchain.document_loaders import HuggingFaceDatasetLoader\n",
    "from langchain.text_splitter import RecursiveCharacterTextSplitter\n",
    "from langchain.embeddings import HuggingFaceEmbeddings\n",
    "from langchain.vectorstores import FAISS\n",
    "from transformers import AutoTokenizer, AutoModelForQuestionAnswering\n",
    "from transformers import AutoTokenizer, pipeline\n",
    "from langchain import HuggingFacePipeline\n",
    "from langchain.chains import RetrievalQA"
   ]
  },
  {
   "cell_type": "code",
   "execution_count": 73,
   "metadata": {},
   "outputs": [
    {
     "name": "stderr",
     "output_type": "stream",
     "text": [
      "The model 'DistilBertModel' is not supported for question-answering. Supported models are ['AlbertForQuestionAnswering', 'BartForQuestionAnswering', 'BertForQuestionAnswering', 'BigBirdForQuestionAnswering', 'BigBirdPegasusForQuestionAnswering', 'BloomForQuestionAnswering', 'CamembertForQuestionAnswering', 'CanineForQuestionAnswering', 'ConvBertForQuestionAnswering', 'Data2VecTextForQuestionAnswering', 'DebertaForQuestionAnswering', 'DebertaV2ForQuestionAnswering', 'DistilBertForQuestionAnswering', 'ElectraForQuestionAnswering', 'ErnieForQuestionAnswering', 'ErnieMForQuestionAnswering', 'FalconForQuestionAnswering', 'FlaubertForQuestionAnsweringSimple', 'FNetForQuestionAnswering', 'FunnelForQuestionAnswering', 'GPT2ForQuestionAnswering', 'GPTNeoForQuestionAnswering', 'GPTNeoXForQuestionAnswering', 'GPTJForQuestionAnswering', 'IBertForQuestionAnswering', 'LayoutLMv2ForQuestionAnswering', 'LayoutLMv3ForQuestionAnswering', 'LEDForQuestionAnswering', 'LiltForQuestionAnswering', 'LlamaForQuestionAnswering', 'LongformerForQuestionAnswering', 'LukeForQuestionAnswering', 'LxmertForQuestionAnswering', 'MarkupLMForQuestionAnswering', 'MBartForQuestionAnswering', 'MegaForQuestionAnswering', 'MegatronBertForQuestionAnswering', 'MobileBertForQuestionAnswering', 'MPNetForQuestionAnswering', 'MptForQuestionAnswering', 'MraForQuestionAnswering', 'MT5ForQuestionAnswering', 'MvpForQuestionAnswering', 'NezhaForQuestionAnswering', 'NystromformerForQuestionAnswering', 'OPTForQuestionAnswering', 'QDQBertForQuestionAnswering', 'ReformerForQuestionAnswering', 'RemBertForQuestionAnswering', 'RobertaForQuestionAnswering', 'RobertaPreLayerNormForQuestionAnswering', 'RoCBertForQuestionAnswering', 'RoFormerForQuestionAnswering', 'SplinterForQuestionAnswering', 'SqueezeBertForQuestionAnswering', 'T5ForQuestionAnswering', 'UMT5ForQuestionAnswering', 'XLMForQuestionAnsweringSimple', 'XLMRobertaForQuestionAnswering', 'XLMRobertaXLForQuestionAnswering', 'XLNetForQuestionAnsweringSimple', 'XmodForQuestionAnswering', 'YosoForQuestionAnswering'].\n"
     ]
    }
   ],
   "source": [
    "# Define a question-answering pipeline using the model and tokenizer\n",
    "question_answerer = pipeline(\n",
    "    \"question-answering\", \n",
    "    model=model, \n",
    "    tokenizer=tokenizer,\n",
    "    return_tensors='pt'\n",
    ")\n",
    "\n",
    "# Create an instance of the HuggingFacePipeline, which wraps the question-answering pipeline\n",
    "# with additional model-specific arguments (temperature and max_length)\n",
    "llm = HuggingFacePipeline(\n",
    "    pipeline=question_answerer,\n",
    "    model_kwargs={\"temperature\": 0.7, \"max_length\": 512},\n",
    ")"
   ]
  },
  {
   "cell_type": "code",
   "execution_count": 77,
   "metadata": {},
   "outputs": [],
   "source": [
    "import bs4\n",
    "from langchain import hub\n",
    "from langchain.text_splitter import RecursiveCharacterTextSplitter\n",
    "# from langchain_community.document_loaders import WebBaseLoader\n",
    "from langchain.document_loaders import DirectoryLoader\n",
    "from langchain.document_loaders.csv_loader import CSVLoader\n",
    "from langchain_community.vectorstores import Chroma\n",
    "from langchain_core.output_parsers import StrOutputParser\n",
    "from langchain_core.runnables import RunnablePassthrough\n",
    "from langchain_openai import ChatOpenAI, OpenAIEmbeddings\n",
    "\n",
    "from datasets import load_dataset\n",
    "\n",
    "# Specify the dataset name and the column containing the content\n",
    "dataset_path = \"../data/\"\n",
    "page_content_column = \"Brief Summary\"  # or any other column you're interested in\n",
    "\n",
    "def load_documents():\n",
    "    loader = DirectoryLoader(dataset_path, glob=\"*.csv\", \n",
    "                             loader_cls=CSVLoader)\n",
    "    documents = loader.load()\n",
    "    return documents\n",
    "\n",
    "smallmol_cancer_docs = load_documents()"
   ]
  },
  {
   "cell_type": "code",
   "execution_count": 78,
   "metadata": {},
   "outputs": [
    {
     "data": {
      "text/plain": [
       "[Document(page_content=\"NCT Number: NCT01747876\\nStudy Title: Study of Safety and Efficacy in Patients With Malignant Rhabdoid Tumors (MRT) and Neuroblastoma\\nStudy URL: https://clinicaltrials.gov/study/NCT01747876\\nAcronym: \\nStudy Status: TERMINATED\\nBrief Summary: LEE011 is a small molecule inhibitor of CDK4/6. LEE011 has demonstrated in vitro and in vivo activity in both tumor models. The primary purpose of this study was to determine the maximum tolerated dose (MTD) and/or recommended dose for expansion (RDE) in pediatric patients and to delineate a clinical dose to be used in future studies. This study was also to have assessed the safety, tolerability, PK and preliminary evidence of antitumor activity of LEE011 in patients with MRT or neuroblastoma.\\nStudy Results: YES\\nConditions: Malignant Rhabdoid Tumors (MRT)|Neuroblastoma\\nInterventions: DRUG: LEE011\\nPrimary Outcome Measures: Incidence Rate of Dose Limiting Toxicities (DLTs) by Primary System Organ Class, Preferred Term and Treatment, A DLT was defined as an AE or clinically significant abnormal laboratory value assessed as unrelated to disease, disease progression, inter-current illness, or concomitant medications that occurred within the first 28 days of treatment with LEE011 and met any of the predefined criteria. For the purpose of dose-escalation decisions, DLTs were considered and included in the Bayesian Logistic Regression Model (BLRM). Patients who did not experience DLT during the first cycle were considered to have had sufficient safety evaluations if they were observed for ≥ 28 days following the first dose and were considered to have had enough safety data to conclude that a DLT did not occur. Patients who did not meet these minimum safety evaluation requirements were regarded as ineligible for the DDS. A patient with multiple DLTs within a primary system organ class is counted only once in the total row., cycle 1 = 28 days (from the time of first dose)\\nSecondary Outcome Measures: Overall Response Rate, This analysis was not done as there were no responders., Every 2 cycles (cycle = 28 days) up to end of treatment, the maximum time a patient was on study was 1311 days|Time to Disease Progression (TTP) Per RECIST 1.1, TTP was assessed per Investigator, for the malignant rhabdoid tumor (MRT) \\\\& neuroblastoma patients for the pooled maximum tolerated dose (MTD) \\\\& recommended dose for expansion (RDE) according to RECIST 1.1 criteria using Kaplan-Meier method. Time to progression (TTP) is the time from date of randomization/start of treatment to the date of event defined as the first documented progression or death due to underlying cancer. If a patient had not had an event, time to progression was censored at the date of last adequate tumor assessment. At least a 20% increase in the sum of diameter of all measured target lesions, taking as reference the smallest sum of diameter of all target lesions recorded at or after baseline. In addition to the relative increase of 20%, the sum must also demonstrate an absolute increase of at least 5 mm., Every 2 cycles (cycle = 28 days) up to end of treatment, the maximum time a patient was on study was 1311 days|Duration of Response (DOR), Assess the anti-tumor activity of LEE011 by RECIST 1.1. DOR was not assessed., Every 2 cycles (cycle = 28 days) up to end of treatment, the maximum time a patient was on study was 1311 days|Pharmacokinetics (PK) Parameter: AUC0-24, The AUC calculated to the end of a dosing interval (tau) following single dose or at steady-state (amount x time x volume-1). PK parameters were estimated from individual plasma concentration-time profiles using noncompartmental methods in Phoenix WinNonlin., 0,1, 2, 4, 8 hours post dose Cycle 1 Day 1 (C1D1) and Cycle 1 Day 15 (C1D15)|Pharmacokinetics (PK) Parameter: Cmax, Cmax is the maximum (peak) observed plasma, blood, serum, or other body fluid drug concentration after single dose administration or at steady-state (mass x volume-1). PK parameters were estimated from individual plasma concentration-time profiles using noncompartmental methods in Phoenix WinNonlin, C1D1, C1D15|Pharmacokinetics (PK) Parameter: Tmax, Tmax is the time to reach maximum (peak) plasma, blood, serum, or other body fluid drug concentration after single dose administration or at steady-state (time). PK parameters were estimated from individual plasma concentration-time profiles using noncompartmental methods in Phoenix WinNonlin., C1D1, C1D15\\nOther Outcome Measures: \\nSponsor: Novartis Pharmaceuticals\\nCollaborators: \\nSex: ALL\\nAge: CHILD, ADULT\\nPhases: PHASE1\\nEnrollment: 32\\nFunder Type: INDUSTRY\\nStudy Type: INTERVENTIONAL\\nStudy Design: Allocation: NA|Intervention Model: SINGLE_GROUP|Masking: NONE|Primary Purpose: TREATMENT\\nOther IDs: CLEE011X2102|2012-004228-40\\nStart Date: 2013-05-28\\nPrimary Completion Date: 2017-06-29\\nCompletion Date: 2017-06-29\\nFirst Posted: 2012-12-12\\nResults First Posted: 2019-02-28\\nLast Update Posted: 2019-11-22\\nLocations: UCSF Medical Center Dept of Pediatic Oncology, San Francisco, California, 94143, United States|Childrens Healthcare of Atlanta Dept of Oncology, Atlanta, Georgia, 30342, United States|Dana Farber Cancer Institute SC-7, Boston, Massachusetts, 02215, United States|Memorial Sloan Kettering Dept of Onc, New York, New York, 10017, United States|Cincinnati Children's Hospital Medical Center Dept of Oncology, Cincinnati, Ohio, 45229-3039, United States|St Jude s Childrens Research Hospital Dept of Oncology, Memphis, Tennessee, 38105-2794, United States|Novartis Investigative Site, Perth, Western Australia, 6840, Australia|Novartis Investigative Site, Lyon Cedex, 69373, France|Novartis Investigative Site, Paris, 75231, France|Novartis Investigative Site, Villejuif Cedex, 94805, France|Novartis Investigative Site, Koeln, Nordrhein-Westfalen, 50937, Germany|Novartis Investigative Site, Augsburg, 86156, Germany|Novartis Investigative Site, Sutton, Surrey, SM2 5PT, United Kingdom\\nStudy Documents: Study Protocol, https://cdn.clinicaltrials.gov/large-docs/76/NCT01747876/Prot_000.pdf|Statistical Analysis Plan, https://cdn.clinicaltrials.gov/large-docs/76/NCT01747876/SAP_001.pdf\\n: \", metadata={'source': '../data/ctg-smallmol-cancer.csv', 'row': 0}),\n",
       " Document(page_content='NCT Number: NCT03449173\\nStudy Title: Trial of Sunitinib in Patients With Type B3 Thymoma or Thymic Carcinoma in Second and Further Lines (Style Trial)\\nStudy URL: https://clinicaltrials.gov/study/NCT03449173\\nAcronym: Style\\nStudy Status: UNKNOWN\\nBrief Summary: Study to investigate response to sunitinib in patients with thymic epithelial tumours who had progressive disease after at least one previous regimen of platinum-based chemotherapy.\\nStudy Results: NO\\nConditions: Type B3 Thymoma|Thymic Carcinoma\\nInterventions: DRUG: Sunitinib\\nPrimary Outcome Measures: Activity of Sunitinib, Best tumour response (Complete Response + Partial Response), 4 years\\nSecondary Outcome Measures: Progression Free Survival (PFS), The PFS is defined as the time from the date of randomization to the date of documented progressive disease, recurrence or Death (whichever occurs first), 4 years|Overall Survival (OS), The OS is defined as the time from the date of randomization to the date of death, 4 years|Duration of activity of sunitinib, Complete Response + Partial Response + Stable Disease, 4 years|Safety and toxicity profile of sunitinib, will be utilized the CTCAE v 4.0 criteria for assessment of toxicity and serious adverse event reporting., 4 years|Incidence of adverse events (AEs), Incidence of adverse events (AEs) will be graded according to the National Cancer Institute Common Toxicity Criteria (NCI-CTC) version 4.0, laboratory values, physical examinations, vital signs., 4 years\\nOther Outcome Measures: \\nSponsor: Fondazione IRCCS Istituto Nazionale dei Tumori, Milano\\nCollaborators: \\nSex: ALL\\nAge: ADULT, OLDER_ADULT\\nPhases: PHASE2\\nEnrollment: 56\\nFunder Type: OTHER\\nStudy Type: INTERVENTIONAL\\nStudy Design: Allocation: NA|Intervention Model: SINGLE_GROUP|Masking: NONE|Primary Purpose: TREATMENT\\nOther IDs: INT 165-16\\nStart Date: 2017-03-02\\nPrimary Completion Date: 2022-05-31\\nCompletion Date: 2022-05-31\\nFirst Posted: 2018-02-28\\nResults First Posted: \\nLast Update Posted: 2021-06-09\\nLocations: National Cancer Institute, Milan, 20133, Italy\\nStudy Documents: \\n: ', metadata={'source': '../data/ctg-smallmol-cancer.csv', 'row': 1})]"
      ]
     },
     "execution_count": 78,
     "metadata": {},
     "output_type": "execute_result"
    }
   ],
   "source": [
    "smallmol_cancer_docs[:2]"
   ]
  },
  {
   "cell_type": "markdown",
   "metadata": {},
   "source": [
    "## based on current design, gather results from similar trials, highlight differences between them and potential downfall of the trials. \n",
    "\n",
    "- Give out suggestions to CRA and trial conductors "
   ]
  },
  {
   "cell_type": "code",
   "execution_count": 15,
   "metadata": {},
   "outputs": [
    {
     "ename": "ValidationError",
     "evalue": "1 validation error for OpenAIEmbeddings\n__root__\n  Did not find openai_api_key, please add an environment variable `OPENAI_API_KEY` which contains it, or pass `openai_api_key` as a named parameter. (type=value_error)",
     "output_type": "error",
     "traceback": [
      "\u001b[0;31m---------------------------------------------------------------------------\u001b[0m",
      "\u001b[0;31mValidationError\u001b[0m                           Traceback (most recent call last)",
      "Cell \u001b[0;32mIn[15], line 7\u001b[0m\n\u001b[1;32m      3\u001b[0m splits \u001b[38;5;241m=\u001b[39m text_splitter\u001b[38;5;241m.\u001b[39msplit_documents(docs)\n\u001b[1;32m      5\u001b[0m \u001b[38;5;66;03m# Embed\u001b[39;00m\n\u001b[1;32m      6\u001b[0m vectorstore \u001b[38;5;241m=\u001b[39m Chroma\u001b[38;5;241m.\u001b[39mfrom_documents(documents\u001b[38;5;241m=\u001b[39msplits, \n\u001b[0;32m----> 7\u001b[0m                                     embedding\u001b[38;5;241m=\u001b[39m\u001b[43mOpenAIEmbeddings\u001b[49m\u001b[43m(\u001b[49m\u001b[43m)\u001b[49m)\n\u001b[1;32m      9\u001b[0m retriever \u001b[38;5;241m=\u001b[39m vectorstore\u001b[38;5;241m.\u001b[39mas_retriever()\n\u001b[1;32m     11\u001b[0m \u001b[38;5;66;03m#### RETRIEVAL and GENERATION ####\u001b[39;00m\n\u001b[1;32m     12\u001b[0m \n\u001b[1;32m     13\u001b[0m \u001b[38;5;66;03m# Prompt\u001b[39;00m\n",
      "File \u001b[0;32m~/miniforge3/envs/trialCompare/lib/python3.9/site-packages/pydantic/v1/main.py:341\u001b[0m, in \u001b[0;36mBaseModel.__init__\u001b[0;34m(__pydantic_self__, **data)\u001b[0m\n\u001b[1;32m    339\u001b[0m values, fields_set, validation_error \u001b[38;5;241m=\u001b[39m validate_model(__pydantic_self__\u001b[38;5;241m.\u001b[39m\u001b[38;5;18m__class__\u001b[39m, data)\n\u001b[1;32m    340\u001b[0m \u001b[38;5;28;01mif\u001b[39;00m validation_error:\n\u001b[0;32m--> 341\u001b[0m     \u001b[38;5;28;01mraise\u001b[39;00m validation_error\n\u001b[1;32m    342\u001b[0m \u001b[38;5;28;01mtry\u001b[39;00m:\n\u001b[1;32m    343\u001b[0m     object_setattr(__pydantic_self__, \u001b[38;5;124m'\u001b[39m\u001b[38;5;124m__dict__\u001b[39m\u001b[38;5;124m'\u001b[39m, values)\n",
      "\u001b[0;31mValidationError\u001b[0m: 1 validation error for OpenAIEmbeddings\n__root__\n  Did not find openai_api_key, please add an environment variable `OPENAI_API_KEY` which contains it, or pass `openai_api_key` as a named parameter. (type=value_error)"
     ]
    }
   ],
   "source": [
    "#### INDEXING ####\n",
    "\n",
    "# Load Documents\n",
    "# loader = WebBaseLoader(\n",
    "#     web_paths=(\"https://lilianweng.github.io/posts/2023-06-23-agent/\",),\n",
    "#     bs_kwargs=dict(\n",
    "#         parse_only=bs4.SoupStrainer(\n",
    "#             class_=(\"post-content\", \"post-title\", \"post-header\")\n",
    "#         )\n",
    "#     ),\n",
    "# )\n",
    "# docs = loader.load()\n",
    "\n",
    "# Split\n",
    "text_splitter = RecursiveCharacterTextSplitter(chunk_size=1000, chunk_overlap=200)\n",
    "splits = text_splitter.split_documents(smallmol_cancer_docs)\n",
    "\n",
    "# Embed\n",
    "vectorstore = Chroma.from_documents(documents=splits, \n",
    "                                    embedding=OpenAIEmbeddings())\n",
    "\n",
    "retriever = vectorstore.as_retriever()\n",
    "\n",
    "#### RETRIEVAL and GENERATION ####\n",
    "\n",
    "# Prompt\n",
    "prompt = hub.pull(\"rlm/rag-prompt\")\n",
    "\n",
    "\n",
    "\n",
    "# LLM\n",
    "# llm = ChatOpenAI(model_name=\"gpt-3.5-turbo\", temperature=0)\n",
    "\n",
    "# Post-processing\n",
    "def format_docs(docs):\n",
    "    return \"\\n\\n\".join(doc.page_content for doc in docs)\n",
    "\n",
    "# Chain\n",
    "rag_chain = (\n",
    "    {\"context\": retriever | format_docs, \"question\": RunnablePassthrough()}\n",
    "    | prompt\n",
    "    | llm\n",
    "    | StrOutputParser()\n",
    ")\n",
    "\n",
    "# Question\n",
    "rag_chain.invoke(\"What is Task Decomposition?\")\n"
   ]
  }
 ],
 "metadata": {
  "kernelspec": {
   "display_name": "timetrove",
   "language": "python",
   "name": "python3"
  },
  "language_info": {
   "codemirror_mode": {
    "name": "ipython",
    "version": 3
   },
   "file_extension": ".py",
   "mimetype": "text/x-python",
   "name": "python",
   "nbconvert_exporter": "python",
   "pygments_lexer": "ipython3",
   "version": "3.9.19"
  }
 },
 "nbformat": 4,
 "nbformat_minor": 2
}
